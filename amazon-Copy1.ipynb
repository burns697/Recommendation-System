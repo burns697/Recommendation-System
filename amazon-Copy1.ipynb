{
 "cells": [
  {
   "cell_type": "code",
   "execution_count": 19,
   "metadata": {
    "colab": {},
    "colab_type": "code",
    "id": "ytwWhAzgTZKn"
   },
   "outputs": [],
   "source": [
    "#importing all the necessary dependencies\n",
    "import os\n",
    "import json\n",
    "import gzip\n",
    "import numpy as np\n",
    "import pandas as pd\n",
    "import _pickle as cPickle\n",
    "import numpy as np \n",
    "from sklearn import manifold\n",
    "from tensorflow.keras.utils import to_categorical\n",
    "from tensorflow.keras.preprocessing.text import Tokenizer\n",
    "from tensorflow.keras.preprocessing.sequence import pad_sequences\n",
    "from tensorflow.keras.utils import to_categorical\n",
    "from tensorflow.keras.layers import Dense, Input, GlobalMaxPooling1D\n",
    "from tensorflow.keras.layers import Conv1D, MaxPooling1D, Embedding\n",
    "from tensorflow.keras.models import Model\n",
    "from tensorflow.keras.initializers import Constant\n"
   ]
  },
  {
   "cell_type": "code",
   "execution_count": 20,
   "metadata": {
    "colab": {
     "base_uri": "https://localhost:8080/",
     "height": 74
    },
    "colab_type": "code",
    "id": "F9xvSuM-Tyz_",
    "outputId": "7bc75f88-3930-49df-ac34-e76db260405b"
   },
   "outputs": [
    {
     "name": "stdout",
     "output_type": "stream",
     "text": [
      "30459\n",
      "{'category': ['Appliances', 'Parts & Accessories', 'Range Parts & Accessories'], 'description': ['', \"I would like to think that anyone in business would benefit from the book because it is all about the power of connecting with and learning from people who are different than we are as a key to our success as individuals and organizations. Most of us have an aversion to strangers, but we really shouldn't because they help us to stretch our thinking, grow, and even do more remarkable things in all aspects of work and life. And the right strangers can make us more complete and filled with possibilities.\", \"Your friends and existing networks are tremendous assets in your growth and success, but they're simply not enough. Sometimes they are too much like you to help in solving pressing problems or creating new opportunities, and sometimes they are just too likely to confirm the things you already think or believe. And besides, relying only on friends and colleagues limits your access to a world of cool and powerful ideas--even if you are among the best connected people on the planet. Imagine that you could connect with anyone in the world, wouldn't that be awesome? Well today you can, and you can combine what others know with the best of what your friends, coworkers, neighbors, and other contacts know to realize your full potential. And all it takes is a sense of curiosity and openness.\", 'I believe that strangers are critical to our success when it comes to almost every challenge we face. In the book, I focus on four specific areas in which strangers, and our openness to strangers, can produce fantastic results. These areas are:', 'Innovation: Connecting with and learning from people who are very different than we are is a real key to developing better products, services, customer experiences, and business practices. Imagine being able to combine your best insight with that of others from all walks of life.', 'People: Being more open to the types of strangers we hire and more skillful in unlocking their talents and building their commitment to our success. We typically hire people just like us, and even though we are wonderful, we need a broader and more diverse set of experiences and ways of thinking and acting if we are going to create breakthroughs and deliver greater value in our business, civic, and even social lives.', 'Collaboration: In most large organizations, and even some that aren\\'t so large, we often struggle to really work together across business units and \"silos.\" And while we say that collaboration and knowledge sharing are important, we spend more time hiding in our departments, convinced that collaboration is too difficult or not that necessary to our success. But what if we could connect in a more meaningful way with everyone in our companies or with partner organizations? Then we could establish a basis for bringing new perspectives to the challenges we face.', 'Customers and Markets: It turns out that an increasing number of customers and prospects in most businesses and organizations are strangers, and our ability to grow our enterprises is tied to our ability to connect with them in new ways to understand their needs and dreams so we can deliver way greater value. But doing this will require us to place greater value on building relationships with strangers.', 'Even in a \"traditional\" office, innovation, collaboration, engaging employees, and delivering greater value to those we serve are essential to success. But most importantly, our real challenge is bringing out the genius in ourselves and all of our colleagues. The Necessity of Strangers will teach you how to look at yourself, the people you work with, and the world around you with a powerful new mindset and an openness to doing new and powerful things together.', '', '', '#9 Washington Post Best Seller (HardcoverNonfiction)Will reset your thinking if being more compelling andinnovative in your career or business matters to you.Andrea Kay, USA Today', 'Is it possible that we are blind to one of the mostexciting sources of innovation in our midst? The strangers amongusthe UPS driver, the co-worker from a different department,neighbors who are older, younger, or otherwise different fromuscould be invaluable allies in our quest for truecreativity, if only we knew how to reach out to them. TheNecessity of Strangers is a guide to breaking out of the hivemind and forging the connections that can make us better thinkersand better people.Dan Pink, author, To Sell is Humanand Drive', 'Alan Gregerman has done it once againmaking acompelling case for the relatively simple, yet powerful, concept ofopening ourselves up to the knowledge and insights of others.The Necessity of Strangers is a provocative, relevant, andpractical guide to meeting the challenges facing business leaderstoday.George Schindler, president, United States and Canada,CGI', 'Are you ready to learn about the power of strangers? Fromthe products we buy at the grocery store to the innovations weadopt at the office, strangers shape our behavior in some amazingways. Get ready for Alan Gregerman to show you how.Jonah Berger, professor of marketing, the Wharton School,and author, Contagious', 'The Necessity of Strangers will change the way youthink about innovation and collaboration. Alan Gregermanspowerful stories, clear examples, and practical guidance show usthat strangers are more essential to our growth and success than weever realized, challenging usand our businessestoreimagine how we engage and inspire our employees, customers, andpartners.Chip Conley, founder, Joie de Vivre Hospitality; author,Peak and Emotional Equations', 'The Necessity of Strangers captures the remarkablevalue and wisdom of learning from people we too often discount orsimply pass by. Their different perspectives may serve as the realcatalyst for helping us innovate, create better products andservices, increase profits, re-energize people, improve ourcommunities, and reach our full potential.Beverly Robertson, president, National Civil RightsMuseum', 'The Necessity of Strangers bothered me in a goodway, making me realize how much time I spend with people who are,quite frankly, a lot like me. Dr. Gregermans book is notonly thought-provoking, but very logical. After reading it I madedeliberate changes to meet and learn from strangers.Joseph (Jody) Giles, Chief Information Officer,Under Armour', 'The Necessity of Strangers provides compellingexamples and tools to look, listen, and learn from the world aroundus in order to create amazing opportunities and results. AlanGregerman challenges us to think in new ways about how individualsand organizations can learn and grow.Kimo Kippen, chief learning officer, HiltonWorldwide', 'The solution to the worlds most difficult issueswill be found at the intersection of disciplines, not insidedisciplines. In The Necessity of Strangers, Alan providespowerful insight and practical tools to accelerate this essentialmashing of ideas.Ellen Glover, executive vice president, ICFInternational', \"In a reality that is constantly changing, and wheretomorrow's ordinary is todays unthinkable, The Necessityof Strangers challenges and encourages us to take advantage ofencounters with strangers. Its a humanistic approach and avision that clearly appeals to me, tied to my belief ininternational business. Just playing it safe will never lead tosuccess.Jan Fager, managing director, Swedish MarketingFederation\", 'Alan Gregerman stops you in your tracks and forces you tore-examine your behavior and ways of thinking.A wonderful andinviting read, punctuated by practical, well-founded insights,The Necessity of Strangers shows how to lead organizationsthat explore, connect, innovate, and grow.Amr ElSawy, president and CEO, Noblis', 'Everyone looking to expand their creativity, createinnovation, and improve service in the workplace will benefit fromreading Alan Gregermans insightful book.John Dillon, senior vice president, MorganStanley', 'The world is changing! The Necessity of Strangersis a must-read to ensure that you are maximizing all of yourrelationships.Ed Fuller, author, You Cant Lead With Your FeetOn The Desk, and former president and managing director,Marriott International Lodging', 'The Necessity of Strangers will open your mind tothe importance of meeting strangers and enchant you with themarvelous things that come out of these encounters. AlanGregermans unique gift is his ability to teach all of us howto make this happen routinely as a key to businesssuccess.Charbel Tagher, CEO, Specified Technologies Inc.', '', '', ''], 'title': 'The Necessity of Strangers: The Intriguing Truth About Insight, Innovation, and Success', 'also_buy': ['0307888908', '038534936X', '1250141222', '1847940803', '0007592515', '0374273537', '0874776317', '089862486X', '0553345729', '0684855275', '1501127624', '0385480016', '0393700046', '1592578659', '0393702634', '1402244843', '0190457325', '161039786X', '0465044301', '1572301511', '0393703835', '1412914035', '0495597244', '0393306321', '0875895956', '1572309601'], 'brand': 'Alan Gregerman', 'rank': '855,504inBooks(', 'also_view': ['1250141222', '0307888908', '038534936X', '1476795924'], 'main_cat': 'Books', 'price': '$16.39', 'asin': '1118461304'}\n"
     ]
    }
   ],
   "source": [
    "#importing our dataset from the gz compressed file to a list\n",
    "data = []\n",
    "with gzip.open('meta_Appliances.json.gz') as f:\n",
    "    for l in f:\n",
    "        data.append(json.loads(l.strip()))\n",
    "    \n",
    "# total length of list, this number equals total number of products\n",
    "print(len(data))\n",
    "\n",
    "# first row of the list\n",
    "print(data[0])"
   ]
  },
  {
   "cell_type": "code",
   "execution_count": 21,
   "metadata": {
    "colab": {
     "base_uri": "https://localhost:8080/",
     "height": 34
    },
    "colab_type": "code",
    "id": "0UMIHTjTT0UV",
    "outputId": "142caead-3690-453f-c90c-7c7420db7f6e"
   },
   "outputs": [
    {
     "name": "stdout",
     "output_type": "stream",
     "text": [
      "30459\n"
     ]
    }
   ],
   "source": [
    "df = pd.DataFrame.from_dict(data)\n",
    "#number of product entries in our data\n",
    "print(len(df))"
   ]
  },
  {
   "cell_type": "code",
   "execution_count": 22,
   "metadata": {
    "colab": {
     "base_uri": "https://localhost:8080/",
     "height": 615
    },
    "colab_type": "code",
    "id": "QnAFT3RDT6b9",
    "outputId": "4e165705-82a3-4dd8-fe6c-913ad0bbef31"
   },
   "outputs": [
    {
     "data": {
      "text/html": [
       "<div>\n",
       "<style scoped>\n",
       "    .dataframe tbody tr th:only-of-type {\n",
       "        vertical-align: middle;\n",
       "    }\n",
       "\n",
       "    .dataframe tbody tr th {\n",
       "        vertical-align: top;\n",
       "    }\n",
       "\n",
       "    .dataframe thead th {\n",
       "        text-align: right;\n",
       "    }\n",
       "</style>\n",
       "<table border=\"1\" class=\"dataframe\">\n",
       "  <thead>\n",
       "    <tr style=\"text-align: right;\">\n",
       "      <th></th>\n",
       "      <th>category</th>\n",
       "      <th>description</th>\n",
       "      <th>title</th>\n",
       "      <th>also_buy</th>\n",
       "      <th>brand</th>\n",
       "      <th>rank</th>\n",
       "      <th>also_view</th>\n",
       "      <th>main_cat</th>\n",
       "      <th>price</th>\n",
       "      <th>asin</th>\n",
       "      <th>tech1</th>\n",
       "      <th>image</th>\n",
       "      <th>date</th>\n",
       "      <th>feature</th>\n",
       "      <th>similar_item</th>\n",
       "      <th>details</th>\n",
       "      <th>tech2</th>\n",
       "    </tr>\n",
       "  </thead>\n",
       "  <tbody>\n",
       "    <tr>\n",
       "      <th>0</th>\n",
       "      <td>[Appliances, Parts &amp; Accessories, Range Parts ...</td>\n",
       "      <td>[, I would like to think that anyone in busine...</td>\n",
       "      <td>The Necessity of Strangers: The Intriguing Tru...</td>\n",
       "      <td>[0307888908, 038534936X, 1250141222, 184794080...</td>\n",
       "      <td>Alan Gregerman</td>\n",
       "      <td>855,504inBooks(</td>\n",
       "      <td>[1250141222, 0307888908, 038534936X, 1476795924]</td>\n",
       "      <td>Books</td>\n",
       "      <td>$16.39</td>\n",
       "      <td>1118461304</td>\n",
       "      <td>NaN</td>\n",
       "      <td>NaN</td>\n",
       "      <td>NaN</td>\n",
       "      <td>NaN</td>\n",
       "      <td>NaN</td>\n",
       "      <td>NaN</td>\n",
       "      <td>NaN</td>\n",
       "    </tr>\n",
       "    <tr>\n",
       "      <th>1</th>\n",
       "      <td>NaN</td>\n",
       "      <td>[Breeze Collection is a wonderful book by Kim ...</td>\n",
       "      <td>Breeze</td>\n",
       "      <td>[1906487316, 1906487014, 1906487006, 190648705...</td>\n",
       "      <td>Non Basic Stock Line</td>\n",
       "      <td>[&gt;#10,898 in Appliances (See top 100)]</td>\n",
       "      <td>NaN</td>\n",
       "      <td>Appliances</td>\n",
       "      <td>$32.00</td>\n",
       "      <td>1906487049</td>\n",
       "      <td>{'Item Weight': '1.15 pounds', 'Package Dimens...</td>\n",
       "      <td>[https://images-na.ssl-images-amazon.com/image...</td>\n",
       "      <td>April 9, 2009</td>\n",
       "      <td>NaN</td>\n",
       "      <td>NaN</td>\n",
       "      <td>NaN</td>\n",
       "      <td>NaN</td>\n",
       "    </tr>\n",
       "    <tr>\n",
       "      <th>2</th>\n",
       "      <td>[Appliances, Parts &amp; Accessories]</td>\n",
       "      <td>[This is an authorized aftermarket product. Fi...</td>\n",
       "      <td>Panasonic ADD96A1052 Blade</td>\n",
       "      <td>NaN</td>\n",
       "      <td>Panasonic</td>\n",
       "      <td>&gt;#1,465,449 in Tools &amp; Home Improvement (See t...</td>\n",
       "      <td>NaN</td>\n",
       "      <td>Tools &amp; Home Improvement</td>\n",
       "      <td>NaN</td>\n",
       "      <td>6040985461</td>\n",
       "      <td>{'Part Number': 'MSCADD96A1054', 'Item Weight'...</td>\n",
       "      <td>[https://images-na.ssl-images-amazon.com/image...</td>\n",
       "      <td>December 26, 2014</td>\n",
       "      <td>[This is an O.E.M. Authorized part, Fits with ...</td>\n",
       "      <td>NaN</td>\n",
       "      <td>NaN</td>\n",
       "      <td>NaN</td>\n",
       "    </tr>\n",
       "    <tr>\n",
       "      <th>3</th>\n",
       "      <td>[Appliances, Refrigerators, Freezers &amp; Ice Mak...</td>\n",
       "      <td>NaN</td>\n",
       "      <td>Tupperware Freezer Square Round Container Set ...</td>\n",
       "      <td>NaN</td>\n",
       "      <td>Tupperware</td>\n",
       "      <td>[&gt;#39,745 in Appliances (See top 100)]</td>\n",
       "      <td>NaN</td>\n",
       "      <td>Appliances</td>\n",
       "      <td>NaN</td>\n",
       "      <td>7301113188</td>\n",
       "      <td>{'Brand Name': 'Tupperware', 'Item Weight': '9...</td>\n",
       "      <td>NaN</td>\n",
       "      <td>November 19, 2008</td>\n",
       "      <td>[Each 3-pc. set includes two 7/8-cup/200 mL an...</td>\n",
       "      <td>NaN</td>\n",
       "      <td>NaN</td>\n",
       "      <td>NaN</td>\n",
       "    </tr>\n",
       "    <tr>\n",
       "      <th>4</th>\n",
       "      <td>[Appliances, Refrigerators, Freezers &amp; Ice Mak...</td>\n",
       "      <td>[2 X Tupperware Pure &amp; Fresh Unique Covered Co...</td>\n",
       "      <td>2 X Tupperware Pure &amp; Fresh Unique Covered Coo...</td>\n",
       "      <td>NaN</td>\n",
       "      <td>Tupperware</td>\n",
       "      <td>[&gt;#6,118 in Appliances (See top 100)]</td>\n",
       "      <td>[B004RUGHJW]</td>\n",
       "      <td>Appliances</td>\n",
       "      <td>$3.62</td>\n",
       "      <td>7861850250</td>\n",
       "      <td>{'Brand Name': 'Tupperware', 'Model Info': 'Tu...</td>\n",
       "      <td>[https://images-na.ssl-images-amazon.com/image...</td>\n",
       "      <td>June 5, 2016</td>\n",
       "      <td>[2 X Tupperware Pure &amp; Fresh Unique Covered Co...</td>\n",
       "      <td>NaN</td>\n",
       "      <td>NaN</td>\n",
       "      <td>NaN</td>\n",
       "    </tr>\n",
       "  </tbody>\n",
       "</table>\n",
       "</div>"
      ],
      "text/plain": [
       "                                            category  \\\n",
       "0  [Appliances, Parts & Accessories, Range Parts ...   \n",
       "1                                                NaN   \n",
       "2                  [Appliances, Parts & Accessories]   \n",
       "3  [Appliances, Refrigerators, Freezers & Ice Mak...   \n",
       "4  [Appliances, Refrigerators, Freezers & Ice Mak...   \n",
       "\n",
       "                                         description  \\\n",
       "0  [, I would like to think that anyone in busine...   \n",
       "1  [Breeze Collection is a wonderful book by Kim ...   \n",
       "2  [This is an authorized aftermarket product. Fi...   \n",
       "3                                                NaN   \n",
       "4  [2 X Tupperware Pure & Fresh Unique Covered Co...   \n",
       "\n",
       "                                               title  \\\n",
       "0  The Necessity of Strangers: The Intriguing Tru...   \n",
       "1                                             Breeze   \n",
       "2                         Panasonic ADD96A1052 Blade   \n",
       "3  Tupperware Freezer Square Round Container Set ...   \n",
       "4  2 X Tupperware Pure & Fresh Unique Covered Coo...   \n",
       "\n",
       "                                            also_buy                 brand  \\\n",
       "0  [0307888908, 038534936X, 1250141222, 184794080...        Alan Gregerman   \n",
       "1  [1906487316, 1906487014, 1906487006, 190648705...  Non Basic Stock Line   \n",
       "2                                                NaN             Panasonic   \n",
       "3                                                NaN            Tupperware   \n",
       "4                                                NaN            Tupperware   \n",
       "\n",
       "                                                rank  \\\n",
       "0                                    855,504inBooks(   \n",
       "1             [>#10,898 in Appliances (See top 100)]   \n",
       "2  >#1,465,449 in Tools & Home Improvement (See t...   \n",
       "3             [>#39,745 in Appliances (See top 100)]   \n",
       "4              [>#6,118 in Appliances (See top 100)]   \n",
       "\n",
       "                                          also_view                  main_cat  \\\n",
       "0  [1250141222, 0307888908, 038534936X, 1476795924]                     Books   \n",
       "1                                               NaN                Appliances   \n",
       "2                                               NaN  Tools & Home Improvement   \n",
       "3                                               NaN                Appliances   \n",
       "4                                      [B004RUGHJW]                Appliances   \n",
       "\n",
       "    price        asin                                              tech1  \\\n",
       "0  $16.39  1118461304                                                NaN   \n",
       "1  $32.00  1906487049  {'Item Weight': '1.15 pounds', 'Package Dimens...   \n",
       "2     NaN  6040985461  {'Part Number': 'MSCADD96A1054', 'Item Weight'...   \n",
       "3     NaN  7301113188  {'Brand Name': 'Tupperware', 'Item Weight': '9...   \n",
       "4   $3.62  7861850250  {'Brand Name': 'Tupperware', 'Model Info': 'Tu...   \n",
       "\n",
       "                                               image               date  \\\n",
       "0                                                NaN                NaN   \n",
       "1  [https://images-na.ssl-images-amazon.com/image...      April 9, 2009   \n",
       "2  [https://images-na.ssl-images-amazon.com/image...  December 26, 2014   \n",
       "3                                                NaN  November 19, 2008   \n",
       "4  [https://images-na.ssl-images-amazon.com/image...       June 5, 2016   \n",
       "\n",
       "                                             feature similar_item details  \\\n",
       "0                                                NaN          NaN     NaN   \n",
       "1                                                NaN          NaN     NaN   \n",
       "2  [This is an O.E.M. Authorized part, Fits with ...          NaN     NaN   \n",
       "3  [Each 3-pc. set includes two 7/8-cup/200 mL an...          NaN     NaN   \n",
       "4  [2 X Tupperware Pure & Fresh Unique Covered Co...          NaN     NaN   \n",
       "\n",
       "  tech2  \n",
       "0   NaN  \n",
       "1   NaN  \n",
       "2   NaN  \n",
       "3   NaN  \n",
       "4   NaN  "
      ]
     },
     "execution_count": 22,
     "metadata": {},
     "output_type": "execute_result"
    }
   ],
   "source": [
    "df.head()"
   ]
  },
  {
   "cell_type": "code",
   "execution_count": 23,
   "metadata": {
    "colab": {},
    "colab_type": "code",
    "id": "nmybDhgzT9MN"
   },
   "outputs": [],
   "source": [
    "#We are trying to eye two Categorical variables for which we can perform multitask classification\n",
    "#We are using main_cat and brandas the 2 categorical variables"
   ]
  },
  {
   "cell_type": "code",
   "execution_count": 24,
   "metadata": {
    "colab": {
     "base_uri": "https://localhost:8080/",
     "height": 323
    },
    "colab_type": "code",
    "id": "W8B9CMi1bFBx",
    "outputId": "c6a20854-5d1a-4f03-d705-ea80e4509989"
   },
   "outputs": [
    {
     "data": {
      "text/plain": [
       "category          808\n",
       "description      2306\n",
       "title               0\n",
       "also_buy        21829\n",
       "brand             585\n",
       "rank              387\n",
       "also_view       19293\n",
       "main_cat           97\n",
       "price           10413\n",
       "asin                0\n",
       "tech1            4633\n",
       "image           18743\n",
       "date             2762\n",
       "feature          4417\n",
       "similar_item    13092\n",
       "details         29206\n",
       "tech2           30458\n",
       "dtype: int64"
      ]
     },
     "execution_count": 24,
     "metadata": {},
     "output_type": "execute_result"
    }
   ],
   "source": [
    "#check Nan values in data\n",
    "df.isnull().sum()\n"
   ]
  },
  {
   "cell_type": "code",
   "execution_count": 25,
   "metadata": {
    "colab": {
     "base_uri": "https://localhost:8080/",
     "height": 136
    },
    "colab_type": "code",
    "id": "MyY_0t4UbMes",
    "outputId": "d7a284e1-5325-416f-ff3d-422060c93008"
   },
   "outputs": [
    {
     "data": {
      "text/plain": [
       "array(['Books', 'Appliances', 'Tools & Home Improvement', 'Amazon Home',\n",
       "       'Home Audio & Theater', 'Industrial & Scientific', 'Baby',\n",
       "       'All Electronics', 'Health & Personal Care', 'Sports & Outdoors',\n",
       "       'Musical Instruments', 'Automotive', 'All Beauty',\n",
       "       'Arts, Crafts & Sewing', 'Pet Supplies', nan, 'Toys & Games',\n",
       "       'Office Products', 'Cell Phones & Accessories', 'Computers',\n",
       "       'Grocery', 'Camera & Photo'], dtype=object)"
      ]
     },
     "execution_count": 25,
     "metadata": {},
     "output_type": "execute_result"
    }
   ],
   "source": [
    "#unique item in main category\n",
    "df[\"main_cat\"].unique()"
   ]
  },
  {
   "cell_type": "code",
   "execution_count": 26,
   "metadata": {
    "colab": {
     "base_uri": "https://localhost:8080/",
     "height": 221
    },
    "colab_type": "code",
    "id": "HADosUEufFEv",
    "outputId": "32b92c6c-d9d7-4285-b256-49c2ed5f49a8"
   },
   "outputs": [
    {
     "data": {
      "text/plain": [
       "Whirlpool                  5857\n",
       "GE                         3290\n",
       "Frigidaire                 2661\n",
       "LG                         1262\n",
       "Samsung                     978\n",
       "                           ... \n",
       "Micro                         1\n",
       "Lambro Industries, Inc.       1\n",
       "OOK                           1\n",
       "Contoure                      1\n",
       "Christasm House               1\n",
       "Name: brand, Length: 2764, dtype: int64"
      ]
     },
     "execution_count": 26,
     "metadata": {},
     "output_type": "execute_result"
    }
   ],
   "source": [
    "#count brand wise\n",
    "df[\"brand\"].value_counts()"
   ]
  },
  {
   "cell_type": "code",
   "execution_count": 27,
   "metadata": {
    "colab": {
     "base_uri": "https://localhost:8080/",
     "height": 513
    },
    "colab_type": "code",
    "id": "mmLfvOpQt9vq",
    "outputId": "332171a5-80c7-4296-bf2d-01851a5fdfe0"
   },
   "outputs": [
    {
     "data": {
      "text/plain": [
       "['',\n",
       " \"I would like to think that anyone in business would benefit from the book because it is all about the power of connecting with and learning from people who are different than we are as a key to our success as individuals and organizations. Most of us have an aversion to strangers, but we really shouldn't because they help us to stretch our thinking, grow, and even do more remarkable things in all aspects of work and life. And the right strangers can make us more complete and filled with possibilities.\",\n",
       " \"Your friends and existing networks are tremendous assets in your growth and success, but they're simply not enough. Sometimes they are too much like you to help in solving pressing problems or creating new opportunities, and sometimes they are just too likely to confirm the things you already think or believe. And besides, relying only on friends and colleagues limits your access to a world of cool and powerful ideas--even if you are among the best connected people on the planet. Imagine that you could connect with anyone in the world, wouldn't that be awesome? Well today you can, and you can combine what others know with the best of what your friends, coworkers, neighbors, and other contacts know to realize your full potential. And all it takes is a sense of curiosity and openness.\",\n",
       " 'I believe that strangers are critical to our success when it comes to almost every challenge we face. In the book, I focus on four specific areas in which strangers, and our openness to strangers, can produce fantastic results. These areas are:',\n",
       " 'Innovation: Connecting with and learning from people who are very different than we are is a real key to developing better products, services, customer experiences, and business practices. Imagine being able to combine your best insight with that of others from all walks of life.',\n",
       " 'People: Being more open to the types of strangers we hire and more skillful in unlocking their talents and building their commitment to our success. We typically hire people just like us, and even though we are wonderful, we need a broader and more diverse set of experiences and ways of thinking and acting if we are going to create breakthroughs and deliver greater value in our business, civic, and even social lives.',\n",
       " 'Collaboration: In most large organizations, and even some that aren\\'t so large, we often struggle to really work together across business units and \"silos.\" And while we say that collaboration and knowledge sharing are important, we spend more time hiding in our departments, convinced that collaboration is too difficult or not that necessary to our success. But what if we could connect in a more meaningful way with everyone in our companies or with partner organizations? Then we could establish a basis for bringing new perspectives to the challenges we face.',\n",
       " 'Customers and Markets: It turns out that an increasing number of customers and prospects in most businesses and organizations are strangers, and our ability to grow our enterprises is tied to our ability to connect with them in new ways to understand their needs and dreams so we can deliver way greater value. But doing this will require us to place greater value on building relationships with strangers.',\n",
       " 'Even in a \"traditional\" office, innovation, collaboration, engaging employees, and delivering greater value to those we serve are essential to success. But most importantly, our real challenge is bringing out the genius in ourselves and all of our colleagues. The Necessity of Strangers will teach you how to look at yourself, the people you work with, and the world around you with a powerful new mindset and an openness to doing new and powerful things together.',\n",
       " '',\n",
       " '',\n",
       " '#9 Washington Post Best Seller (HardcoverNonfiction)Will reset your thinking if being more compelling andinnovative in your career or business matters to you.Andrea Kay, USA Today',\n",
       " 'Is it possible that we are blind to one of the mostexciting sources of innovation in our midst? The strangers amongusthe UPS driver, the co-worker from a different department,neighbors who are older, younger, or otherwise different fromuscould be invaluable allies in our quest for truecreativity, if only we knew how to reach out to them. TheNecessity of Strangers is a guide to breaking out of the hivemind and forging the connections that can make us better thinkersand better people.Dan Pink, author, To Sell is Humanand Drive',\n",
       " 'Alan Gregerman has done it once againmaking acompelling case for the relatively simple, yet powerful, concept ofopening ourselves up to the knowledge and insights of others.The Necessity of Strangers is a provocative, relevant, andpractical guide to meeting the challenges facing business leaderstoday.George Schindler, president, United States and Canada,CGI',\n",
       " 'Are you ready to learn about the power of strangers? Fromthe products we buy at the grocery store to the innovations weadopt at the office, strangers shape our behavior in some amazingways. Get ready for Alan Gregerman to show you how.Jonah Berger, professor of marketing, the Wharton School,and author, Contagious',\n",
       " 'The Necessity of Strangers will change the way youthink about innovation and collaboration. Alan Gregermanspowerful stories, clear examples, and practical guidance show usthat strangers are more essential to our growth and success than weever realized, challenging usand our businessestoreimagine how we engage and inspire our employees, customers, andpartners.Chip Conley, founder, Joie de Vivre Hospitality; author,Peak and Emotional Equations',\n",
       " 'The Necessity of Strangers captures the remarkablevalue and wisdom of learning from people we too often discount orsimply pass by. Their different perspectives may serve as the realcatalyst for helping us innovate, create better products andservices, increase profits, re-energize people, improve ourcommunities, and reach our full potential.Beverly Robertson, president, National Civil RightsMuseum',\n",
       " 'The Necessity of Strangers bothered me in a goodway, making me realize how much time I spend with people who are,quite frankly, a lot like me. Dr. Gregermans book is notonly thought-provoking, but very logical. After reading it I madedeliberate changes to meet and learn from strangers.Joseph (Jody) Giles, Chief Information Officer,Under Armour',\n",
       " 'The Necessity of Strangers provides compellingexamples and tools to look, listen, and learn from the world aroundus in order to create amazing opportunities and results. AlanGregerman challenges us to think in new ways about how individualsand organizations can learn and grow.Kimo Kippen, chief learning officer, HiltonWorldwide',\n",
       " 'The solution to the worlds most difficult issueswill be found at the intersection of disciplines, not insidedisciplines. In The Necessity of Strangers, Alan providespowerful insight and practical tools to accelerate this essentialmashing of ideas.Ellen Glover, executive vice president, ICFInternational',\n",
       " \"In a reality that is constantly changing, and wheretomorrow's ordinary is todays unthinkable, The Necessityof Strangers challenges and encourages us to take advantage ofencounters with strangers. Its a humanistic approach and avision that clearly appeals to me, tied to my belief ininternational business. Just playing it safe will never lead tosuccess.Jan Fager, managing director, Swedish MarketingFederation\",\n",
       " 'Alan Gregerman stops you in your tracks and forces you tore-examine your behavior and ways of thinking.A wonderful andinviting read, punctuated by practical, well-founded insights,The Necessity of Strangers shows how to lead organizationsthat explore, connect, innovate, and grow.Amr ElSawy, president and CEO, Noblis',\n",
       " 'Everyone looking to expand their creativity, createinnovation, and improve service in the workplace will benefit fromreading Alan Gregermans insightful book.John Dillon, senior vice president, MorganStanley',\n",
       " 'The world is changing! The Necessity of Strangersis a must-read to ensure that you are maximizing all of yourrelationships.Ed Fuller, author, You Cant Lead With Your FeetOn The Desk, and former president and managing director,Marriott International Lodging',\n",
       " 'The Necessity of Strangers will open your mind tothe importance of meeting strangers and enchant you with themarvelous things that come out of these encounters. AlanGregermans unique gift is his ability to teach all of us howto make this happen routinely as a key to businesssuccess.Charbel Tagher, CEO, Specified Technologies Inc.',\n",
       " '',\n",
       " '',\n",
       " '']"
      ]
     },
     "execution_count": 27,
     "metadata": {},
     "output_type": "execute_result"
    }
   ],
   "source": [
    "#A sample description\n",
    "df[\"description\"][0]"
   ]
  },
  {
   "cell_type": "code",
   "execution_count": 28,
   "metadata": {
    "colab": {},
    "colab_type": "code",
    "id": "g_TGNuHhumZ8"
   },
   "outputs": [],
   "source": [
    "#dropping all the row containing nan values in the data\n",
    "df1=df.dropna(subset=['description']) "
   ]
  },
  {
   "cell_type": "code",
   "execution_count": 29,
   "metadata": {
    "colab": {},
    "colab_type": "code",
    "id": "5QD4_cBeFgN4"
   },
   "outputs": [],
   "source": [
    "df1=df1.reset_index()"
   ]
  },
  {
   "cell_type": "code",
   "execution_count": 30,
   "metadata": {
    "colab": {
     "base_uri": "https://localhost:8080/",
     "height": 102
    },
    "colab_type": "code",
    "id": "yrwyIHtNFk5W",
    "outputId": "0757716a-a920-4789-e4bd-dc7c0aaa1cd4"
   },
   "outputs": [
    {
     "name": "stderr",
     "output_type": "stream",
     "text": [
      "/usr/local/lib/python3.6/dist-packages/ipykernel_launcher.py:3: SettingWithCopyWarning: \n",
      "A value is trying to be set on a copy of a slice from a DataFrame\n",
      "\n",
      "See the caveats in the documentation: https://pandas.pydata.org/pandas-docs/stable/user_guide/indexing.html#returning-a-view-versus-a-copy\n",
      "  This is separate from the ipykernel package so we can avoid doing imports until\n"
     ]
    }
   ],
   "source": [
    "#Description was initially an array of words, converting it to string format\n",
    "for i in range(len(df1['description'])):\n",
    "    df1['description'][i]=''.join(df1['description'][i])"
   ]
  },
  {
   "cell_type": "code",
   "execution_count": 31,
   "metadata": {
    "colab": {},
    "colab_type": "code",
    "id": "arsmqd3kFmwX"
   },
   "outputs": [],
   "source": [
    "#Filtering out and only taking brands which occured more than 3 times\n",
    "sub_df = df1[df1.groupby('brand').brand.transform('count')>3].copy()"
   ]
  },
  {
   "cell_type": "code",
   "execution_count": 32,
   "metadata": {
    "colab": {},
    "colab_type": "code",
    "id": "X92U-W1ZPGFB"
   },
   "outputs": [],
   "source": [
    "#DATA CLEANING\n",
    "drooping nan values from main cat and brand\n",
    "sub_df=sub_df.dropna(subset=['main_cat','brand'])\n"
   ]
  },
  {
   "cell_type": "code",
   "execution_count": 33,
   "metadata": {
    "colab": {},
    "colab_type": "code",
    "id": "HgEABdIYFrd7"
   },
   "outputs": [],
   "source": [
    "# convert to categorical data for training\n",
    "labels_brand=to_categorical(sub_df[\"brand\"].astype(\"category\").cat.codes)\n",
    "labels_main_cat=to_categorical(sub_df[\"main_cat\"].astype(\"category\").cat.codes)"
   ]
  },
  {
   "cell_type": "code",
   "execution_count": 34,
   "metadata": {
    "colab": {
     "base_uri": "https://localhost:8080/",
     "height": 34
    },
    "colab_type": "code",
    "id": "sgUAyiXFIXel",
    "outputId": "4968a53a-3ad3-44d0-b708-65c231521e9e"
   },
   "outputs": [
    {
     "data": {
      "text/plain": [
       "(25327, 503)"
      ]
     },
     "execution_count": 34,
     "metadata": {},
     "output_type": "execute_result"
    }
   ],
   "source": [
    "#labels_brand is the ONEHOT ENCODING of the brands.\n",
    "#There are 25327 PRODUCT ENTRIES and 503 DISTINCT BRANDS\n",
    "labels_brand.shape"
   ]
  },
  {
   "cell_type": "code",
   "execution_count": 35,
   "metadata": {
    "colab": {
     "base_uri": "https://localhost:8080/",
     "height": 34
    },
    "colab_type": "code",
    "id": "V1oAOvgQIbJp",
    "outputId": "c62d768d-eafe-48e3-b1c7-b170380b24a6"
   },
   "outputs": [
    {
     "data": {
      "text/plain": [
       "(25327, 20)"
      ]
     },
     "execution_count": 35,
     "metadata": {},
     "output_type": "execute_result"
    }
   ],
   "source": [
    "#labels_main_cat is the ONEHOT ENCODING of the brands.\n",
    "#There are 25327 PRODUCT ENTRIES and 20 DISTINCT BRANDS\n",
    "labels_main_cat.shape"
   ]
  },
  {
   "cell_type": "code",
   "execution_count": 36,
   "metadata": {
    "colab": {},
    "colab_type": "code",
    "id": "9rgFjUdNIdK7"
   },
   "outputs": [],
   "source": [
    "# list of all the description\n",
    "docs=sub_df[\"description\"].tolist()"
   ]
  },
  {
   "cell_type": "code",
   "execution_count": 37,
   "metadata": {
    "colab": {
     "base_uri": "https://localhost:8080/",
     "height": 34
    },
    "colab_type": "code",
    "id": "Dt8ELGAVI6xq",
    "outputId": "f2a5729a-8fe6-413b-b7f1-99e3dab4fa25"
   },
   "outputs": [
    {
     "data": {
      "text/plain": [
       "85069"
      ]
     },
     "execution_count": 37,
     "metadata": {},
     "output_type": "execute_result"
    }
   ],
   "source": [
    "#maximum length in list\n",
    "len(max(docs, key = len))"
   ]
  },
  {
   "cell_type": "code",
   "execution_count": 38,
   "metadata": {
    "colab": {},
    "colab_type": "code",
    "id": "I1biUVUyI781"
   },
   "outputs": [],
   "source": [
    "#We will limit of pad all the description to 2000 words\n",
    "MAX_SEQUENCE_LENGTH = 2000 "
   ]
  },
  {
   "cell_type": "code",
   "execution_count": 40,
   "metadata": {
    "colab": {},
    "colab_type": "code",
    "id": "BSFQJnQoJaKF"
   },
   "outputs": [],
   "source": [
    "#other parameters\n",
    "MAX_NUM_WORDS = 20000\n",
    "EMBEDDING_DIM = 50\n",
    "VALIDATION_SPLIT = 0.2"
   ]
  },
  {
   "cell_type": "code",
   "execution_count": 42,
   "metadata": {
    "colab": {},
    "colab_type": "code",
    "id": "ziQVD2Y6JyVu"
   },
   "outputs": [],
   "source": [
    "#getting embeddings from glove\n",
    "def unpickle(filename):\n",
    "    f = open(filename, \"rb\")\n",
    "    d = cPickle.load(f)\n",
    "    f.close()\n",
    "    return d\n",
    "\n",
    "glove_data=unpickle(\"glove_new (1).txt\")\n",
    "embeddings_index=glove_data[\"embeddings_index\"]"
   ]
  },
  {
   "cell_type": "code",
   "execution_count": 45,
   "metadata": {},
   "outputs": [
    {
     "data": {
      "text/plain": [
       "numpy.ndarray"
      ]
     },
     "execution_count": 45,
     "metadata": {},
     "output_type": "execute_result"
    }
   ],
   "source": [
    "type(embeddings_index[\"the\"])"
   ]
  },
  {
   "cell_type": "code",
   "execution_count": 46,
   "metadata": {
    "colab": {
     "base_uri": "https://localhost:8080/",
     "height": 34
    },
    "colab_type": "code",
    "id": "kyPSzelELKf2",
    "outputId": "4cfe5583-e10a-4120-bd15-fabe889f5174"
   },
   "outputs": [
    {
     "data": {
      "text/plain": [
       "400000"
      ]
     },
     "execution_count": 46,
     "metadata": {},
     "output_type": "execute_result"
    }
   ],
   "source": [
    "#embeddings_index has 50d embeddings for 400000 words in numpy array format\n",
    "len(embeddings_index)"
   ]
  },
  {
   "cell_type": "code",
   "execution_count": 48,
   "metadata": {
    "colab": {
     "base_uri": "https://localhost:8080/",
     "height": 85
    },
    "colab_type": "code",
    "id": "U1QzqdYNLjVv",
    "outputId": "b71c91c2-8748-4536-991b-ebb7886a9526"
   },
   "outputs": [
    {
     "name": "stdout",
     "output_type": "stream",
     "text": [
      "Found 72598 unique tokens.\n",
      "Shape of data tensor: (25327, 2000)\n",
      "Shape of brand label tensor: (25327, 503)\n",
      "Shape of main category label tensor: (25327, 20)\n"
     ]
    }
   ],
   "source": [
    "#TOKENIZING words to numbers\n",
    "tokenizer = Tokenizer(num_words=MAX_NUM_WORDS)\n",
    "tokenizer.fit_on_texts(docs)\n",
    "sequences = tokenizer.texts_to_sequences(docs)\n",
    "word_index = tokenizer.word_index\n",
    "print('Found %s unique tokens.' % len(word_index))\n",
    "\n",
    "data = pad_sequences(sequences, maxlen=MAX_SEQUENCE_LENGTH)\n",
    "print('Shape of data tensor:', data.shape)\n",
    "print('Shape of brand label tensor:', labels_brand.shape)\n",
    "print('Shape of main category label tensor:', labels_main_cat.shape)"
   ]
  },
  {
   "cell_type": "code",
   "execution_count": 49,
   "metadata": {
    "colab": {},
    "colab_type": "code",
    "id": "VGi3ughFB3UR"
   },
   "outputs": [],
   "source": [
    "#SAVING THE DATASET FOR FUTURE USE\n",
    "sub_df.to_csv(\"final_df.csv\")"
   ]
  },
  {
   "cell_type": "code",
   "execution_count": 50,
   "metadata": {
    "colab": {},
    "colab_type": "code",
    "id": "Y_CvVuLYL88X"
   },
   "outputs": [],
   "source": [
    "# split the data into a training set and a validation set\n",
    "indices = np.arange(data.shape[0]) \n",
    "np.random.shuffle(indices) \n",
    "data = data[indices]\n",
    "labels_brand = labels_brand[indices]\n",
    "labels_main_cat = labels_main_cat[indices]\n",
    "num_validation_samples = int(VALIDATION_SPLIT * data.shape[0])\n",
    "\n",
    "x_train = data[:-num_validation_samples]\n",
    "y_train_brand = labels_brand[:-num_validation_samples]\n",
    "y_train_main_cat = labels_main_cat[:-num_validation_samples]\n",
    "x_val = data[-num_validation_samples:]\n",
    "y_val_brand = labels_brand[-num_validation_samples:]\n",
    "y_val_main_cat = labels_main_cat[-num_validation_samples:]"
   ]
  },
  {
   "cell_type": "code",
   "execution_count": 51,
   "metadata": {
    "colab": {},
    "colab_type": "code",
    "id": "TlOVsZYxPnoI"
   },
   "outputs": [],
   "source": [
    "# prepare embedding matrix from the Tokenized Description data\n",
    "num_words = min(MAX_NUM_WORDS, len(word_index) + 1)\n",
    "embedding_matrix = np.zeros((num_words, EMBEDDING_DIM))\n",
    "for word, i in word_index.items():\n",
    "    if i >= MAX_NUM_WORDS:\n",
    "        continue\n",
    "    embedding_vector = embeddings_index.get(word)\n",
    "    if embedding_vector is not None:\n",
    "        # words not found in embedding index will be all-zeros.\n",
    "        embedding_matrix[i] = embedding_vector"
   ]
  },
  {
   "cell_type": "code",
   "execution_count": 52,
   "metadata": {
    "colab": {
     "base_uri": "https://localhost:8080/",
     "height": 34
    },
    "colab_type": "code",
    "id": "GnuUxn_-T2aZ",
    "outputId": "8d9ce2d5-4bd8-47bd-e67b-d7240bbded2b"
   },
   "outputs": [
    {
     "name": "stdout",
     "output_type": "stream",
     "text": [
      "Training model.\n"
     ]
    }
   ],
   "source": [
    "#PREPERING THE MODEL\n",
    "embedding_layer = Embedding(num_words,\n",
    "                            EMBEDDING_DIM,\n",
    "                            embeddings_initializer=Constant(embedding_matrix),\n",
    "                            input_length=MAX_SEQUENCE_LENGTH,\n",
    "                            trainable=True)\n",
    "print('Training model.')\n",
    "\n",
    "sequence_input = Input(shape=(MAX_SEQUENCE_LENGTH,), dtype='int32')\n",
    "embedded_sequences = embedding_layer(sequence_input)\n",
    "x = Conv1D(128, 5, activation='relu')(embedded_sequences)\n",
    "x = MaxPooling1D(5)(x)\n",
    "x = Conv1D(256, 5, activation='relu')(x)\n",
    "x = MaxPooling1D(5)(x)\n",
    "x = Conv1D(512, 5, activation='relu')(x)\n",
    "x = GlobalMaxPooling1D()(x)\n",
    "x = Dense(512, activation='relu')(x)\n",
    "#two branches\n",
    "brand = Dense(len(labels_brand[0]), activation='softmax')(x)\n",
    "main_category = Dense(len(labels_main_cat[0]), activation='softmax')(x)\n",
    "\n",
    "#model = Model(sequence_input, preds)\n",
    "model = Model(inputs=sequence_input, outputs=[brand, main_category])\n",
    "\n"
   ]
  },
  {
   "cell_type": "code",
   "execution_count": 53,
   "metadata": {
    "colab": {
     "base_uri": "https://localhost:8080/",
     "height": 527
    },
    "colab_type": "code",
    "id": "4ELBlXbsYp9J",
    "outputId": "43d8ff71-52e2-4042-c217-63618ef8db0c"
   },
   "outputs": [
    {
     "name": "stdout",
     "output_type": "stream",
     "text": [
      "Model: \"model\"\n",
      "__________________________________________________________________________________________________\n",
      "Layer (type)                    Output Shape         Param #     Connected to                     \n",
      "==================================================================================================\n",
      "input_1 (InputLayer)            [(None, 2000)]       0                                            \n",
      "__________________________________________________________________________________________________\n",
      "embedding (Embedding)           (None, 2000, 50)     1000000     input_1[0][0]                    \n",
      "__________________________________________________________________________________________________\n",
      "conv1d (Conv1D)                 (None, 1996, 128)    32128       embedding[0][0]                  \n",
      "__________________________________________________________________________________________________\n",
      "max_pooling1d (MaxPooling1D)    (None, 399, 128)     0           conv1d[0][0]                     \n",
      "__________________________________________________________________________________________________\n",
      "conv1d_1 (Conv1D)               (None, 395, 256)     164096      max_pooling1d[0][0]              \n",
      "__________________________________________________________________________________________________\n",
      "max_pooling1d_1 (MaxPooling1D)  (None, 79, 256)      0           conv1d_1[0][0]                   \n",
      "__________________________________________________________________________________________________\n",
      "conv1d_2 (Conv1D)               (None, 75, 512)      655872      max_pooling1d_1[0][0]            \n",
      "__________________________________________________________________________________________________\n",
      "global_max_pooling1d (GlobalMax (None, 512)          0           conv1d_2[0][0]                   \n",
      "__________________________________________________________________________________________________\n",
      "dense (Dense)                   (None, 512)          262656      global_max_pooling1d[0][0]       \n",
      "__________________________________________________________________________________________________\n",
      "dense_1 (Dense)                 (None, 503)          258039      dense[0][0]                      \n",
      "__________________________________________________________________________________________________\n",
      "dense_2 (Dense)                 (None, 20)           10260       dense[0][0]                      \n",
      "==================================================================================================\n",
      "Total params: 2,383,051\n",
      "Trainable params: 2,383,051\n",
      "Non-trainable params: 0\n",
      "__________________________________________________________________________________________________\n"
     ]
    }
   ],
   "source": [
    "model.summary()"
   ]
  },
  {
   "cell_type": "code",
   "execution_count": 54,
   "metadata": {
    "colab": {},
    "colab_type": "code",
    "id": "5k7WIYVVY3vB"
   },
   "outputs": [],
   "source": [
    "model.compile(optimizer='rmsprop',\n",
    "              loss={'dense_2': 'categorical_crossentropy', 'dense_3': 'categorical_crossentropy'},\n",
    "              loss_weights={'dense_2': 1., 'dense_3': 1.},\n",
    "              metrics={'dense_2': 'acc', 'dense_3': 'acc'})"
   ]
  },
  {
   "cell_type": "code",
   "execution_count": null,
   "metadata": {
    "colab": {
     "base_uri": "https://localhost:8080/",
     "height": 1000
    },
    "colab_type": "code",
    "id": "HiegFF_EZUCL",
    "outputId": "707619bb-e076-4afc-a649-30d572c79793"
   },
   "outputs": [],
   "source": [
    "# train your model\n",
    "model.fit(x_train,\n",
    "          {'dense_2': y_train_brand, 'dense_3': y_train_main_cat},\n",
    "          epochs=30, batch_size=64,validation_data=(x_val,{'dense_2': y_val_brand, 'dense_3': y_val_main_cat}))"
   ]
  },
  {
   "cell_type": "code",
   "execution_count": null,
   "metadata": {
    "colab": {},
    "colab_type": "code",
    "id": "tLMMgB5KapZD"
   },
   "outputs": [],
   "source": [
    "#get the weights of first layers \n",
    "#below comparision will show how the GloVe embeddings have finetuned for our Description corpus\n",
    "weights = model.layers[1].get_weights()[0]"
   ]
  },
  {
   "cell_type": "code",
   "execution_count": null,
   "metadata": {
    "colab": {
     "base_uri": "https://localhost:8080/",
     "height": 238
    },
    "colab_type": "code",
    "id": "EehSDyLckVoi",
    "outputId": "0637924b-2edd-4d61-da0c-e16030037587"
   },
   "outputs": [],
   "source": [
    "weights[1]"
   ]
  },
  {
   "cell_type": "code",
   "execution_count": null,
   "metadata": {
    "colab": {
     "base_uri": "https://localhost:8080/",
     "height": 238
    },
    "colab_type": "code",
    "id": "Vxii2cCvkZOn",
    "outputId": "f00daecb-44b9-45d0-ae59-addfc6530693"
   },
   "outputs": [],
   "source": [
    "embedding_matrix[1]"
   ]
  },
  {
   "cell_type": "code",
   "execution_count": null,
   "metadata": {
    "colab": {},
    "colab_type": "code",
    "id": "94Lov0hJka3K"
   },
   "outputs": [],
   "source": [
    "weights.shape"
   ]
  },
  {
   "cell_type": "code",
   "execution_count": null,
   "metadata": {
    "colab": {
     "base_uri": "https://localhost:8080/",
     "height": 214
    },
    "colab_type": "code",
    "id": "sZbsyEFjlXwq",
    "outputId": "f14ed197-dc25-4733-eb5b-8a0e27a4dbc0"
   },
   "outputs": [],
   "source": [
    "#SAVING THE MODEL TO JSON FILE\n",
    "from keras.models import model_from_json\n",
    "model_json = model.to_json()\n",
    "with open(\"model.json\", \"w\") as json_file:\n",
    "    json_file.write(model_json)"
   ]
  },
  {
   "cell_type": "code",
   "execution_count": null,
   "metadata": {
    "colab": {},
    "colab_type": "code",
    "id": "I6iPNwSMzlY9"
   },
   "outputs": [],
   "source": [
    "#RECALLING MODEL FROM JSON FORMAT\n",
    "from tensorflow.keras.models import model_from_json\n",
    "json_file = open('model.json', 'r')\n",
    "loaded_model_json = json_file.read()\n",
    "json_file.close()\n",
    "loaded_model = model_from_json(loaded_model_json)"
   ]
  },
  {
   "cell_type": "code",
   "execution_count": null,
   "metadata": {},
   "outputs": [],
   "source": [
    "#WE EXTRACT EMBEDDINGS FROM THE LAST COMMON LAYER OF OUR MULTITASK CLASSIFICATION NET\n",
    "from keras.models import Model\n",
    "\n",
    "model = loaded_model  # include here your original model\n",
    "#edit layer_name referring to model.summary() in case of errors \n",
    "layer_name = 'dense_1'\n",
    "intermediate_layer_model = Model(inputs=model.input,\n",
    "                                 outputs=model.get_layer(layer_name).output)\n",
    "intermediate_output = intermediate_layer_model.predict(data)"
   ]
  },
  {
   "cell_type": "code",
   "execution_count": null,
   "metadata": {},
   "outputs": [],
   "source": [
    "intermediate_output.shape"
   ]
  },
  {
   "cell_type": "code",
   "execution_count": null,
   "metadata": {},
   "outputs": [],
   "source": [
    "#SAVING ABOVE OBTAINED EMBEDDINGS IN A FILE FOR FUTURE USE\n",
    "import pickle\n",
    "\n",
    "with open(\"embeddings.pkl\",\"wb\") as f:\n",
    "    pickle.dump(intermediate_output,f)"
   ]
  }
 ],
 "metadata": {
  "accelerator": "GPU",
  "colab": {
   "collapsed_sections": [],
   "name": "amazon.ipynb",
   "provenance": []
  },
  "kernelspec": {
   "display_name": "Python 3",
   "language": "python",
   "name": "python3"
  },
  "language_info": {
   "codemirror_mode": {
    "name": "ipython",
    "version": 3
   },
   "file_extension": ".py",
   "mimetype": "text/x-python",
   "name": "python",
   "nbconvert_exporter": "python",
   "pygments_lexer": "ipython3",
   "version": "3.7.6"
  }
 },
 "nbformat": 4,
 "nbformat_minor": 4
}
