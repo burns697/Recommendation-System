{
 "cells": [
  {
   "cell_type": "code",
   "execution_count": 1,
   "metadata": {},
   "outputs": [],
   "source": [
    "import _pickle as cPickle\n",
    "def unpickle(filename):\n",
    "    f = open(filename, \"rb\")\n",
    "    d = cPickle.load(f)\n",
    "    f.close()\n",
    "    return d"
   ]
  },
  {
   "cell_type": "code",
   "execution_count": null,
   "metadata": {},
   "outputs": [],
   "source": [
    "#importing embeddings we got from CNN \n",
    "data=unpickle(\"embeddings.pkl\")"
   ]
  },
  {
   "cell_type": "code",
   "execution_count": 40,
   "metadata": {},
   "outputs": [
    {
     "data": {
      "text/plain": [
       "(25327, 512)"
      ]
     },
     "execution_count": 40,
     "metadata": {},
     "output_type": "execute_result"
    }
   ],
   "source": [
    "data.shape"
   ]
  },
  {
   "cell_type": "code",
   "execution_count": 2,
   "metadata": {},
   "outputs": [],
   "source": [
    "#embeddings that we have are of dimensions 512-D\n",
    "#we will reduce them to dimensions 50-D\n",
    "#two methods are used for the task : SHALLOW AUTOENCODERS and PCA"
   ]
  },
  {
   "cell_type": "code",
   "execution_count": null,
   "metadata": {},
   "outputs": [],
   "source": [
    "#REDUCING EMBEDDINGS BY SHALLOW AUTOENCODERS"
   ]
  },
  {
   "cell_type": "code",
   "execution_count": 42,
   "metadata": {},
   "outputs": [],
   "source": [
    "from keras.layers import Input, Dense\n",
    "from keras.models import Model"
   ]
  },
  {
   "cell_type": "code",
   "execution_count": 43,
   "metadata": {},
   "outputs": [],
   "source": [
    "#defining Shallow autoencoder\n",
    "encoding_dim=50\n",
    "\n",
    "input_enc=Input(shape=(512,))\n",
    "\n",
    "enc=Dense(encoding_dim,activation=\"relu\")(input_enc)\n",
    "decode=Dense(512,activation=\"sigmoid\")(enc)\n",
    "\n",
    "autoenc=Model(input_enc,decode)"
   ]
  },
  {
   "cell_type": "code",
   "execution_count": 44,
   "metadata": {},
   "outputs": [],
   "source": [
    "encoder=Model(input_enc,enc)"
   ]
  },
  {
   "cell_type": "code",
   "execution_count": 45,
   "metadata": {},
   "outputs": [],
   "source": [
    "autoenc.compile(optimizer=\"adadelta\",loss=\"mean_squared_error\",metrics='MeanSquaredError')"
   ]
  },
  {
   "cell_type": "code",
   "execution_count": 46,
   "metadata": {},
   "outputs": [
    {
     "name": "stdout",
     "output_type": "stream",
     "text": [
      "Epoch 1/100\n",
      "198/198 [==============================] - 0s 2ms/step - loss: 0.2073 - mean_squared_error: 0.2073\n",
      "Epoch 2/100\n",
      "198/198 [==============================] - 0s 2ms/step - loss: 0.2073 - mean_squared_error: 0.2073\n",
      "Epoch 3/100\n",
      "198/198 [==============================] - 0s 2ms/step - loss: 0.2073 - mean_squared_error: 0.2073\n",
      "Epoch 4/100\n",
      "198/198 [==============================] - 0s 2ms/step - loss: 0.2072 - mean_squared_error: 0.2072\n",
      "Epoch 5/100\n",
      "198/198 [==============================] - 0s 2ms/step - loss: 0.2072 - mean_squared_error: 0.2072\n",
      "Epoch 6/100\n",
      "198/198 [==============================] - 0s 2ms/step - loss: 0.2072 - mean_squared_error: 0.2072\n",
      "Epoch 7/100\n",
      "198/198 [==============================] - 0s 2ms/step - loss: 0.2071 - mean_squared_error: 0.2071\n",
      "Epoch 8/100\n",
      "198/198 [==============================] - 0s 2ms/step - loss: 0.2071 - mean_squared_error: 0.2071\n",
      "Epoch 9/100\n",
      "198/198 [==============================] - 0s 2ms/step - loss: 0.2071 - mean_squared_error: 0.2071\n",
      "Epoch 10/100\n",
      "198/198 [==============================] - 0s 2ms/step - loss: 0.2070 - mean_squared_error: 0.2070\n",
      "Epoch 11/100\n",
      "198/198 [==============================] - 0s 2ms/step - loss: 0.2070 - mean_squared_error: 0.2070\n",
      "Epoch 12/100\n",
      "198/198 [==============================] - 0s 2ms/step - loss: 0.2070 - mean_squared_error: 0.2070\n",
      "Epoch 13/100\n",
      "198/198 [==============================] - 0s 2ms/step - loss: 0.2069 - mean_squared_error: 0.2069\n",
      "Epoch 14/100\n",
      "198/198 [==============================] - 0s 2ms/step - loss: 0.2069 - mean_squared_error: 0.2069\n",
      "Epoch 15/100\n",
      "198/198 [==============================] - 0s 2ms/step - loss: 0.2069 - mean_squared_error: 0.2069\n",
      "Epoch 16/100\n",
      "198/198 [==============================] - 0s 2ms/step - loss: 0.2068 - mean_squared_error: 0.2068\n",
      "Epoch 17/100\n",
      "198/198 [==============================] - 0s 2ms/step - loss: 0.2068 - mean_squared_error: 0.2068\n",
      "Epoch 18/100\n",
      "198/198 [==============================] - 0s 2ms/step - loss: 0.2068 - mean_squared_error: 0.2068\n",
      "Epoch 19/100\n",
      "198/198 [==============================] - 0s 2ms/step - loss: 0.2067 - mean_squared_error: 0.2067\n",
      "Epoch 20/100\n",
      "198/198 [==============================] - 0s 2ms/step - loss: 0.2067 - mean_squared_error: 0.2067\n",
      "Epoch 21/100\n",
      "198/198 [==============================] - 0s 2ms/step - loss: 0.2067 - mean_squared_error: 0.2067\n",
      "Epoch 22/100\n",
      "198/198 [==============================] - 0s 2ms/step - loss: 0.2066 - mean_squared_error: 0.2066\n",
      "Epoch 23/100\n",
      "198/198 [==============================] - 0s 2ms/step - loss: 0.2066 - mean_squared_error: 0.2066\n",
      "Epoch 24/100\n",
      "198/198 [==============================] - 0s 2ms/step - loss: 0.2066 - mean_squared_error: 0.2066\n",
      "Epoch 25/100\n",
      "198/198 [==============================] - 1s 3ms/step - loss: 0.2065 - mean_squared_error: 0.2065\n",
      "Epoch 26/100\n",
      "198/198 [==============================] - 0s 2ms/step - loss: 0.2065 - mean_squared_error: 0.2065\n",
      "Epoch 27/100\n",
      "198/198 [==============================] - 0s 2ms/step - loss: 0.2065 - mean_squared_error: 0.2065\n",
      "Epoch 28/100\n",
      "198/198 [==============================] - 0s 2ms/step - loss: 0.2064 - mean_squared_error: 0.2064\n",
      "Epoch 29/100\n",
      "198/198 [==============================] - 0s 2ms/step - loss: 0.2064 - mean_squared_error: 0.2064\n",
      "Epoch 30/100\n",
      "198/198 [==============================] - 0s 2ms/step - loss: 0.2064 - mean_squared_error: 0.2064\n",
      "Epoch 31/100\n",
      "198/198 [==============================] - 0s 2ms/step - loss: 0.2063 - mean_squared_error: 0.2063\n",
      "Epoch 32/100\n",
      "198/198 [==============================] - 0s 2ms/step - loss: 0.2063 - mean_squared_error: 0.2063\n",
      "Epoch 33/100\n",
      "198/198 [==============================] - 0s 2ms/step - loss: 0.2063 - mean_squared_error: 0.2063\n",
      "Epoch 34/100\n",
      "198/198 [==============================] - 0s 2ms/step - loss: 0.2062 - mean_squared_error: 0.2062\n",
      "Epoch 35/100\n",
      "198/198 [==============================] - 0s 2ms/step - loss: 0.2062 - mean_squared_error: 0.2062\n",
      "Epoch 36/100\n",
      "198/198 [==============================] - 0s 2ms/step - loss: 0.2062 - mean_squared_error: 0.2062\n",
      "Epoch 37/100\n",
      "198/198 [==============================] - 0s 2ms/step - loss: 0.2061 - mean_squared_error: 0.2061\n",
      "Epoch 38/100\n",
      "198/198 [==============================] - 0s 2ms/step - loss: 0.2061 - mean_squared_error: 0.2061\n",
      "Epoch 39/100\n",
      "198/198 [==============================] - 0s 2ms/step - loss: 0.2061 - mean_squared_error: 0.2061\n",
      "Epoch 40/100\n",
      "198/198 [==============================] - 0s 2ms/step - loss: 0.2060 - mean_squared_error: 0.2060\n",
      "Epoch 41/100\n",
      "198/198 [==============================] - 0s 2ms/step - loss: 0.2060 - mean_squared_error: 0.2060\n",
      "Epoch 42/100\n",
      "198/198 [==============================] - 0s 2ms/step - loss: 0.2060 - mean_squared_error: 0.2060\n",
      "Epoch 43/100\n",
      "198/198 [==============================] - 0s 2ms/step - loss: 0.2059 - mean_squared_error: 0.2059\n",
      "Epoch 44/100\n",
      "198/198 [==============================] - 0s 2ms/step - loss: 0.2059 - mean_squared_error: 0.2059\n",
      "Epoch 45/100\n",
      "198/198 [==============================] - 0s 2ms/step - loss: 0.2059 - mean_squared_error: 0.2059\n",
      "Epoch 46/100\n",
      "198/198 [==============================] - 0s 2ms/step - loss: 0.2058 - mean_squared_error: 0.2058\n",
      "Epoch 47/100\n",
      "198/198 [==============================] - 0s 2ms/step - loss: 0.2058 - mean_squared_error: 0.2058\n",
      "Epoch 48/100\n",
      "198/198 [==============================] - 0s 2ms/step - loss: 0.2058 - mean_squared_error: 0.2058\n",
      "Epoch 49/100\n",
      "198/198 [==============================] - 1s 3ms/step - loss: 0.2057 - mean_squared_error: 0.2057\n",
      "Epoch 50/100\n",
      "198/198 [==============================] - 0s 2ms/step - loss: 0.2057 - mean_squared_error: 0.2057\n",
      "Epoch 51/100\n",
      "198/198 [==============================] - 0s 2ms/step - loss: 0.2057 - mean_squared_error: 0.2057\n",
      "Epoch 52/100\n",
      "198/198 [==============================] - 0s 2ms/step - loss: 0.2056 - mean_squared_error: 0.2056\n",
      "Epoch 53/100\n",
      "198/198 [==============================] - 0s 2ms/step - loss: 0.2056 - mean_squared_error: 0.2056\n",
      "Epoch 54/100\n",
      "198/198 [==============================] - 0s 2ms/step - loss: 0.2056 - mean_squared_error: 0.2056\n",
      "Epoch 55/100\n",
      "198/198 [==============================] - 0s 2ms/step - loss: 0.2055 - mean_squared_error: 0.2055\n",
      "Epoch 56/100\n",
      "198/198 [==============================] - 0s 2ms/step - loss: 0.2055 - mean_squared_error: 0.2055\n",
      "Epoch 57/100\n",
      "198/198 [==============================] - 0s 2ms/step - loss: 0.2055 - mean_squared_error: 0.2055\n",
      "Epoch 58/100\n",
      "198/198 [==============================] - 0s 2ms/step - loss: 0.2054 - mean_squared_error: 0.2054\n",
      "Epoch 59/100\n",
      "198/198 [==============================] - 0s 2ms/step - loss: 0.2054 - mean_squared_error: 0.2054\n",
      "Epoch 60/100\n",
      "198/198 [==============================] - 0s 2ms/step - loss: 0.2054 - mean_squared_error: 0.2054\n",
      "Epoch 61/100\n",
      "198/198 [==============================] - 0s 3ms/step - loss: 0.2053 - mean_squared_error: 0.2053\n",
      "Epoch 62/100\n",
      "198/198 [==============================] - 0s 2ms/step - loss: 0.2053 - mean_squared_error: 0.2053\n",
      "Epoch 63/100\n",
      "198/198 [==============================] - 0s 2ms/step - loss: 0.2053 - mean_squared_error: 0.2053\n",
      "Epoch 64/100\n",
      "198/198 [==============================] - 0s 2ms/step - loss: 0.2052 - mean_squared_error: 0.2052\n",
      "Epoch 65/100\n",
      "198/198 [==============================] - 0s 2ms/step - loss: 0.2052 - mean_squared_error: 0.2052\n",
      "Epoch 66/100\n",
      "198/198 [==============================] - 0s 2ms/step - loss: 0.2052 - mean_squared_error: 0.2052\n",
      "Epoch 67/100\n",
      "198/198 [==============================] - 0s 2ms/step - loss: 0.2051 - mean_squared_error: 0.2051\n",
      "Epoch 68/100\n",
      "198/198 [==============================] - 0s 2ms/step - loss: 0.2051 - mean_squared_error: 0.2051\n",
      "Epoch 69/100\n",
      "198/198 [==============================] - 0s 2ms/step - loss: 0.2051 - mean_squared_error: 0.2051\n",
      "Epoch 70/100\n",
      "198/198 [==============================] - 0s 2ms/step - loss: 0.2050 - mean_squared_error: 0.2050\n",
      "Epoch 71/100\n",
      "198/198 [==============================] - 0s 2ms/step - loss: 0.2050 - mean_squared_error: 0.2050\n",
      "Epoch 72/100\n",
      "198/198 [==============================] - 0s 2ms/step - loss: 0.2050 - mean_squared_error: 0.2050\n",
      "Epoch 73/100\n",
      "198/198 [==============================] - 1s 3ms/step - loss: 0.2049 - mean_squared_error: 0.2049\n",
      "Epoch 74/100\n",
      "198/198 [==============================] - 0s 2ms/step - loss: 0.2049 - mean_squared_error: 0.2049: 0s - loss: 0.2049 - mean_squared\n",
      "Epoch 75/100\n",
      "198/198 [==============================] - 0s 2ms/step - loss: 0.2049 - mean_squared_error: 0.2049\n",
      "Epoch 76/100\n",
      "198/198 [==============================] - 0s 2ms/step - loss: 0.2048 - mean_squared_error: 0.2048\n",
      "Epoch 77/100\n",
      "198/198 [==============================] - 0s 2ms/step - loss: 0.2048 - mean_squared_error: 0.2048\n",
      "Epoch 78/100\n",
      "198/198 [==============================] - 0s 2ms/step - loss: 0.2048 - mean_squared_error: 0.2048\n",
      "Epoch 79/100\n",
      "198/198 [==============================] - 0s 2ms/step - loss: 0.2047 - mean_squared_error: 0.2047\n",
      "Epoch 80/100\n",
      "198/198 [==============================] - 0s 2ms/step - loss: 0.2047 - mean_squared_error: 0.2047\n",
      "Epoch 81/100\n",
      "198/198 [==============================] - 0s 2ms/step - loss: 0.2047 - mean_squared_error: 0.2047\n",
      "Epoch 82/100\n",
      "198/198 [==============================] - 0s 2ms/step - loss: 0.2046 - mean_squared_error: 0.2046\n",
      "Epoch 83/100\n",
      "198/198 [==============================] - 0s 2ms/step - loss: 0.2046 - mean_squared_error: 0.2046\n",
      "Epoch 84/100\n",
      "198/198 [==============================] - 0s 2ms/step - loss: 0.2046 - mean_squared_error: 0.2046\n",
      "Epoch 85/100\n",
      "198/198 [==============================] - 0s 2ms/step - loss: 0.2045 - mean_squared_error: 0.2045\n",
      "Epoch 86/100\n",
      "198/198 [==============================] - 1s 3ms/step - loss: 0.2045 - mean_squared_error: 0.2045\n",
      "Epoch 87/100\n",
      "198/198 [==============================] - 0s 2ms/step - loss: 0.2044 - mean_squared_error: 0.2044\n",
      "Epoch 88/100\n",
      "198/198 [==============================] - 0s 2ms/step - loss: 0.2044 - mean_squared_error: 0.2044\n",
      "Epoch 89/100\n",
      "198/198 [==============================] - 0s 2ms/step - loss: 0.2044 - mean_squared_error: 0.2044\n",
      "Epoch 90/100\n",
      "198/198 [==============================] - 0s 2ms/step - loss: 0.2043 - mean_squared_error: 0.2043: 0s - loss: 0.2042 - mean_squared_e\n",
      "Epoch 91/100\n",
      "198/198 [==============================] - 0s 2ms/step - loss: 0.2043 - mean_squared_error: 0.2043\n",
      "Epoch 92/100\n",
      "198/198 [==============================] - 0s 2ms/step - loss: 0.2043 - mean_squared_error: 0.2043\n",
      "Epoch 93/100\n",
      "198/198 [==============================] - 0s 2ms/step - loss: 0.2042 - mean_squared_error: 0.2042\n",
      "Epoch 94/100\n",
      "198/198 [==============================] - 0s 2ms/step - loss: 0.2042 - mean_squared_error: 0.2042\n",
      "Epoch 95/100\n",
      "198/198 [==============================] - 0s 2ms/step - loss: 0.2042 - mean_squared_error: 0.2042\n",
      "Epoch 96/100\n",
      "198/198 [==============================] - 0s 2ms/step - loss: 0.2041 - mean_squared_error: 0.2041\n",
      "Epoch 97/100\n",
      "198/198 [==============================] - 0s 2ms/step - loss: 0.2041 - mean_squared_error: 0.2041\n",
      "Epoch 98/100\n",
      "198/198 [==============================] - 1s 3ms/step - loss: 0.2041 - mean_squared_error: 0.2041\n",
      "Epoch 99/100\n",
      "198/198 [==============================] - 0s 2ms/step - loss: 0.2040 - mean_squared_error: 0.2040\n",
      "Epoch 100/100\n",
      "198/198 [==============================] - 0s 2ms/step - loss: 0.2040 - mean_squared_error: 0.2040\n"
     ]
    },
    {
     "data": {
      "text/plain": [
       "<tensorflow.python.keras.callbacks.History at 0x7fd3b02c53c8>"
      ]
     },
     "execution_count": 46,
     "metadata": {},
     "output_type": "execute_result"
    }
   ],
   "source": [
    "#training our autoencoder for our data\n",
    "autoenc.fit(data,data,epochs=100,batch_size=128)"
   ]
  },
  {
   "cell_type": "code",
   "execution_count": 47,
   "metadata": {},
   "outputs": [],
   "source": [
    "autoencoder_50d_embeddings=encoder.predict(data)"
   ]
  },
  {
   "cell_type": "code",
   "execution_count": 48,
   "metadata": {},
   "outputs": [
    {
     "data": {
      "text/plain": [
       "(25327, 50)"
      ]
     },
     "execution_count": 48,
     "metadata": {},
     "output_type": "execute_result"
    }
   ],
   "source": [
    "autoencoder_50d_embeddings.shape"
   ]
  },
  {
   "cell_type": "code",
   "execution_count": 49,
   "metadata": {},
   "outputs": [],
   "source": [
    "#50-D dimension embedding by AUTOENCODERS\n",
    "import pickle\n",
    "with open(\"autoencoder_50d_embeddings.pkl\",\"wb\") as f:\n",
    "    pickle.dump(autoencoder_50d_embeddings,f)\n"
   ]
  },
  {
   "cell_type": "code",
   "execution_count": null,
   "metadata": {},
   "outputs": [],
   "source": [
    "#DIMENSION REDUCTION using PCA"
   ]
  },
  {
   "cell_type": "code",
   "execution_count": 60,
   "metadata": {},
   "outputs": [],
   "source": [
    "from sklearn.decomposition import PCA\n",
    "pca=PCA(n_components=50)"
   ]
  },
  {
   "cell_type": "code",
   "execution_count": 61,
   "metadata": {},
   "outputs": [],
   "source": [
    "pca_50d_embeddings=pca.fit_transform(data)"
   ]
  },
  {
   "cell_type": "code",
   "execution_count": 63,
   "metadata": {},
   "outputs": [
    {
     "data": {
      "text/plain": [
       "(25327, 50)"
      ]
     },
     "execution_count": 63,
     "metadata": {},
     "output_type": "execute_result"
    }
   ],
   "source": [
    "pca_50d_embeddings.shape"
   ]
  },
  {
   "cell_type": "code",
   "execution_count": 66,
   "metadata": {},
   "outputs": [
    {
     "data": {
      "text/plain": [
       "array([-0.30327675, -0.36283588, -0.24048103, -0.07681601,  0.1876284 ,\n",
       "       -0.00558734, -0.0588856 , -0.01809417, -0.11631743, -0.07399639,\n",
       "       -0.00079727,  0.06991582, -0.06906996,  0.1527123 ,  0.22383824,\n",
       "       -0.07520327, -0.00494753, -0.01723693,  0.00169093,  0.07503373,\n",
       "       -0.09574276,  0.09547008, -0.08809625, -0.04945933,  0.05245623,\n",
       "       -0.06643343,  0.07165492, -0.01618605,  0.06652861, -0.03841022,\n",
       "        0.01706232,  0.01333522,  0.01322477, -0.01794138, -0.00373119,\n",
       "        0.02285655,  0.03118763, -0.08502965,  0.02586279,  0.02391113,\n",
       "        0.01237565, -0.06939848, -0.03323783, -0.04974164, -0.0498613 ,\n",
       "       -0.01408357, -0.01936535, -0.0123929 , -0.04883566, -0.0665542 ],\n",
       "      dtype=float32)"
      ]
     },
     "execution_count": 66,
     "metadata": {},
     "output_type": "execute_result"
    }
   ],
   "source": [
    "pca_50d_embeddings[10]"
   ]
  },
  {
   "cell_type": "code",
   "execution_count": 68,
   "metadata": {},
   "outputs": [],
   "source": [
    "#50-D dimension embedding by PCA\n",
    "import pickle\n",
    "with open(\"pca_50d_embeddings.pkl\",\"wb\") as f:\n",
    "    pickle.dump(pca_50d_embeddings,f)\n",
    "\n"
   ]
  },
  {
   "cell_type": "code",
   "execution_count": null,
   "metadata": {},
   "outputs": [],
   "source": []
  }
 ],
 "metadata": {
  "kernelspec": {
   "display_name": "Python 3",
   "language": "python",
   "name": "python3"
  },
  "language_info": {
   "codemirror_mode": {
    "name": "ipython",
    "version": 3
   },
   "file_extension": ".py",
   "mimetype": "text/x-python",
   "name": "python",
   "nbconvert_exporter": "python",
   "pygments_lexer": "ipython3",
   "version": "3.7.6"
  }
 },
 "nbformat": 4,
 "nbformat_minor": 4
}
