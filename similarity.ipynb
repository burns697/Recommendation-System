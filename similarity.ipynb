{
 "cells": [
  {
   "cell_type": "code",
   "execution_count": 105,
   "metadata": {},
   "outputs": [],
   "source": [
    "import _pickle as cPickle\n",
    "def unpickle(filename):\n",
    "    f = open(filename, \"rb\")\n",
    "    d = cPickle.load(f)\n",
    "    f.close()\n",
    "    return d\n"
   ]
  },
  {
   "cell_type": "code",
   "execution_count": null,
   "metadata": {},
   "outputs": [],
   "source": [
    "#we import the final data to use ANN and KNN search to check the quality of the results"
   ]
  },
  {
   "cell_type": "code",
   "execution_count": 106,
   "metadata": {},
   "outputs": [],
   "source": [
    "data=unpickle(\"data_new.pkl\")"
   ]
  },
  {
   "cell_type": "code",
   "execution_count": 107,
   "metadata": {},
   "outputs": [],
   "source": [
    "df=data[[\"title\",\"final embeddings\"]]"
   ]
  },
  {
   "cell_type": "code",
   "execution_count": 108,
   "metadata": {},
   "outputs": [],
   "source": [
    "df=df.reset_index()"
   ]
  },
  {
   "cell_type": "code",
   "execution_count": 109,
   "metadata": {},
   "outputs": [
    {
     "data": {
      "text/html": [
       "<div>\n",
       "<style scoped>\n",
       "    .dataframe tbody tr th:only-of-type {\n",
       "        vertical-align: middle;\n",
       "    }\n",
       "\n",
       "    .dataframe tbody tr th {\n",
       "        vertical-align: top;\n",
       "    }\n",
       "\n",
       "    .dataframe thead th {\n",
       "        text-align: right;\n",
       "    }\n",
       "</style>\n",
       "<table border=\"1\" class=\"dataframe\">\n",
       "  <thead>\n",
       "    <tr style=\"text-align: right;\">\n",
       "      <th></th>\n",
       "      <th>index</th>\n",
       "      <th>title</th>\n",
       "      <th>final embeddings</th>\n",
       "    </tr>\n",
       "  </thead>\n",
       "  <tbody>\n",
       "    <tr>\n",
       "      <th>0</th>\n",
       "      <td>0</td>\n",
       "      <td>Leviton 5050 B01-0-000 Electrical Receptacle, ...</td>\n",
       "      <td>[0.04236961156129837, 0.04030364751815796, -0....</td>\n",
       "    </tr>\n",
       "    <tr>\n",
       "      <th>1</th>\n",
       "      <td>1</td>\n",
       "      <td>Leviton 5206 50 Amp, 125/250 Volt, NEMA 10-50R...</td>\n",
       "      <td>[0.03194904699921608, 0.01351519301533699, -0....</td>\n",
       "    </tr>\n",
       "    <tr>\n",
       "      <th>2</th>\n",
       "      <td>2</td>\n",
       "      <td>Dundas Jafine CHK100ZW CHK100ZW6 Vents, 4-Inch...</td>\n",
       "      <td>[-0.04139666259288788, 0.1698998212814331, 0.5...</td>\n",
       "    </tr>\n",
       "    <tr>\n",
       "      <th>3</th>\n",
       "      <td>3</td>\n",
       "      <td>Holmes \"C\" Humidifier Filter, HWF65PDQ-U</td>\n",
       "      <td>[-0.03386007621884346, 0.09112260490655899, 0....</td>\n",
       "    </tr>\n",
       "    <tr>\n",
       "      <th>4</th>\n",
       "      <td>4</td>\n",
       "      <td>Holmes \"A\" Humidifier Filter, HWF62</td>\n",
       "      <td>[0.021733354777097702, 0.024240538477897644, -...</td>\n",
       "    </tr>\n",
       "    <tr>\n",
       "      <th>5</th>\n",
       "      <td>5</td>\n",
       "      <td>Holmes \"B\" Humidifier Filter, HWF64</td>\n",
       "      <td>[-0.03953782096505165, 0.1161935105919838, -0....</td>\n",
       "    </tr>\n",
       "    <tr>\n",
       "      <th>6</th>\n",
       "      <td>6</td>\n",
       "      <td>Range Kleen 8234 Gas Range Knobs – 4 White Gas...</td>\n",
       "      <td>[0.02836083248257637, 0.13297735154628754, 0.3...</td>\n",
       "    </tr>\n",
       "    <tr>\n",
       "      <th>7</th>\n",
       "      <td>8</td>\n",
       "      <td>RANGE KLEEN RGP-200 Chrome Range Round Pan/Ora...</td>\n",
       "      <td>[0.029942501336336136, -0.004961610771715641, ...</td>\n",
       "    </tr>\n",
       "    <tr>\n",
       "      <th>8</th>\n",
       "      <td>9</td>\n",
       "      <td>RANGE KLEEN 106-A Chrome Range Pan/Green Label...</td>\n",
       "      <td>[0.0237448588013649, 0.011799604631960392, -0....</td>\n",
       "    </tr>\n",
       "    <tr>\n",
       "      <th>9</th>\n",
       "      <td>10</td>\n",
       "      <td>RANGE KLEEN R8-GE Chrome Range Trim Ring/Green...</td>\n",
       "      <td>[-0.0164551492780447, 0.06439027190208435, 0.1...</td>\n",
       "    </tr>\n",
       "  </tbody>\n",
       "</table>\n",
       "</div>"
      ],
      "text/plain": [
       "   index                                              title  \\\n",
       "0      0  Leviton 5050 B01-0-000 Electrical Receptacle, ...   \n",
       "1      1  Leviton 5206 50 Amp, 125/250 Volt, NEMA 10-50R...   \n",
       "2      2  Dundas Jafine CHK100ZW CHK100ZW6 Vents, 4-Inch...   \n",
       "3      3           Holmes \"C\" Humidifier Filter, HWF65PDQ-U   \n",
       "4      4                Holmes \"A\" Humidifier Filter, HWF62   \n",
       "5      5                Holmes \"B\" Humidifier Filter, HWF64   \n",
       "6      6  Range Kleen 8234 Gas Range Knobs – 4 White Gas...   \n",
       "7      8  RANGE KLEEN RGP-200 Chrome Range Round Pan/Ora...   \n",
       "8      9  RANGE KLEEN 106-A Chrome Range Pan/Green Label...   \n",
       "9     10  RANGE KLEEN R8-GE Chrome Range Trim Ring/Green...   \n",
       "\n",
       "                                    final embeddings  \n",
       "0  [0.04236961156129837, 0.04030364751815796, -0....  \n",
       "1  [0.03194904699921608, 0.01351519301533699, -0....  \n",
       "2  [-0.04139666259288788, 0.1698998212814331, 0.5...  \n",
       "3  [-0.03386007621884346, 0.09112260490655899, 0....  \n",
       "4  [0.021733354777097702, 0.024240538477897644, -...  \n",
       "5  [-0.03953782096505165, 0.1161935105919838, -0....  \n",
       "6  [0.02836083248257637, 0.13297735154628754, 0.3...  \n",
       "7  [0.029942501336336136, -0.004961610771715641, ...  \n",
       "8  [0.0237448588013649, 0.011799604631960392, -0....  \n",
       "9  [-0.0164551492780447, 0.06439027190208435, 0.1...  "
      ]
     },
     "execution_count": 109,
     "metadata": {},
     "output_type": "execute_result"
    }
   ],
   "source": [
    "df.head(10)"
   ]
  },
  {
   "cell_type": "code",
   "execution_count": 110,
   "metadata": {},
   "outputs": [],
   "source": [
    "import numpy as np"
   ]
  },
  {
   "cell_type": "code",
   "execution_count": 111,
   "metadata": {},
   "outputs": [
    {
     "name": "stderr",
     "output_type": "stream",
     "text": [
      "/usr/local/lib/python3.6/dist-packages/ipykernel_launcher.py:2: SettingWithCopyWarning: \n",
      "A value is trying to be set on a copy of a slice from a DataFrame\n",
      "\n",
      "See the caveats in the documentation: https://pandas.pydata.org/pandas-docs/stable/user_guide/indexing.html#returning-a-view-versus-a-copy\n",
      "  \n"
     ]
    }
   ],
   "source": [
    "for i in range(len(df[\"final embeddings\"])):\n",
    "    df[\"final embeddings\"][i]=np.array(df[\"final embeddings\"][i])"
   ]
  },
  {
   "cell_type": "code",
   "execution_count": 112,
   "metadata": {},
   "outputs": [],
   "source": [
    "search_id=0"
   ]
  },
  {
   "cell_type": "code",
   "execution_count": 113,
   "metadata": {},
   "outputs": [
    {
     "data": {
      "text/plain": [
       "'Leviton 5050 B01-0-000 Electrical Receptacle, 125/250 Vac, 50 A, 3 Pole, 3 Wire, Pack of 1, Black'"
      ]
     },
     "execution_count": 113,
     "metadata": {},
     "output_type": "execute_result"
    }
   ],
   "source": [
    "df[\"title\"][search_id]"
   ]
  },
  {
   "cell_type": "code",
   "execution_count": 114,
   "metadata": {},
   "outputs": [
    {
     "data": {
      "text/plain": [
       "(256,)"
      ]
     },
     "execution_count": 114,
     "metadata": {},
     "output_type": "execute_result"
    }
   ],
   "source": [
    "df[\"final embeddings\"][search_id].shape"
   ]
  },
  {
   "cell_type": "code",
   "execution_count": 115,
   "metadata": {},
   "outputs": [
    {
     "data": {
      "text/plain": [
       "6040"
      ]
     },
     "execution_count": 115,
     "metadata": {},
     "output_type": "execute_result"
    }
   ],
   "source": [
    "df.shape[0]"
   ]
  },
  {
   "cell_type": "code",
   "execution_count": 116,
   "metadata": {},
   "outputs": [],
   "source": [
    "import pandas as pd"
   ]
  },
  {
   "cell_type": "code",
   "execution_count": null,
   "metadata": {},
   "outputs": [],
   "source": [
    "#KNN search performed"
   ]
  },
  {
   "cell_type": "code",
   "execution_count": 117,
   "metadata": {},
   "outputs": [],
   "source": [
    "def simple_search(search_id,df):\n",
    "    s_score=[]\n",
    "    for i in range(df.shape[0]):\n",
    "        a=np.linalg.norm(df[\"final embeddings\"][search_id])\n",
    "        b=np.linalg.norm(df[\"final embeddings\"][i])\n",
    "        c=a*b\n",
    "        s_score.append(np.dot(df[\"final embeddings\"][search_id],df[\"final embeddings\"][i])/c)\n",
    "    dataf=pd.DataFrame()\n",
    "    dataf[\"similarity scores\"]=s_score\n",
    "    dataf[\"tag\"]=df[\"title\"]\n",
    "    print(df[\"title\"][search_id])\n",
    "    print()\n",
    "    print(dataf.nlargest(5, ['similarity scores']))"
   ]
  },
  {
   "cell_type": "code",
   "execution_count": 118,
   "metadata": {},
   "outputs": [
    {
     "name": "stdout",
     "output_type": "stream",
     "text": [
      "Leviton 5050 B01-0-000 Electrical Receptacle, 125/250 Vac, 50 A, 3 Pole, 3 Wire, Pack of 1, Black\n",
      "\n",
      "      similarity scores                                                tag\n",
      "0              1.000000  Leviton 5050 B01-0-000 Electrical Receptacle, ...\n",
      "2681           0.997126  EcoAqua EFF-6013A Replacement for GE MWF Smart...\n",
      "2343           0.997106  Deflecto Dryer Vent Hood, Wide Mouth, 4\", Whit...\n",
      "77             0.996828  Supco RIM500 Universal Modular Ice Maker, Repl...\n",
      "3867           0.996659            Electrolux 218904301 O Ring Replacement\n"
     ]
    }
   ],
   "source": [
    "simple_search(0,df)"
   ]
  },
  {
   "cell_type": "code",
   "execution_count": 119,
   "metadata": {},
   "outputs": [
    {
     "data": {
      "text/plain": [
       "'Supco RIM500 Universal Modular Ice Maker, Replaces Whirlpool 4317943, 4211173, 4210317, 625601, 797991, 8114, W10122496'"
      ]
     },
     "execution_count": 119,
     "metadata": {},
     "output_type": "execute_result"
    }
   ],
   "source": [
    "df[\"title\"][77]"
   ]
  },
  {
   "cell_type": "code",
   "execution_count": 120,
   "metadata": {},
   "outputs": [],
   "source": [
    "#advanced search \n",
    "#first apply kmeans, get centroids\n",
    "#search in the centroids"
   ]
  },
  {
   "cell_type": "code",
   "execution_count": 121,
   "metadata": {},
   "outputs": [],
   "source": [
    "embeddings=df[\"final embeddings\"].to_numpy()"
   ]
  },
  {
   "cell_type": "code",
   "execution_count": 122,
   "metadata": {},
   "outputs": [],
   "source": [
    "for i in range(len(embeddings)):\n",
    "    embeddings[i]=np.array(embeddings[i])"
   ]
  },
  {
   "cell_type": "code",
   "execution_count": 123,
   "metadata": {},
   "outputs": [],
   "source": [
    "# list of numpy array into single numpy array\n",
    "embeddings=np.stack(embeddings, axis=0)"
   ]
  },
  {
   "cell_type": "code",
   "execution_count": 124,
   "metadata": {},
   "outputs": [
    {
     "data": {
      "text/plain": [
       "(6040, 256)"
      ]
     },
     "execution_count": 124,
     "metadata": {},
     "output_type": "execute_result"
    }
   ],
   "source": [
    "embeddings.shape"
   ]
  },
  {
   "cell_type": "code",
   "execution_count": null,
   "metadata": {},
   "outputs": [],
   "source": [
    "#ANN search performed"
   ]
  },
  {
   "cell_type": "code",
   "execution_count": 140,
   "metadata": {},
   "outputs": [],
   "source": [
    "import annoy"
   ]
  },
  {
   "cell_type": "code",
   "execution_count": 163,
   "metadata": {},
   "outputs": [],
   "source": [
    "class AnnoyIndex():\n",
    "    def __init__(self, vectors, labels):\n",
    "        print(vectors.shape)\n",
    "        self.dimension = vectors.shape[1]\n",
    "        self.vectors = vectors.astype('float32')\n",
    "        self.labels = labels    \n",
    "   \n",
    "    def build(self, number_of_trees=20):\n",
    "        self.index = annoy.AnnoyIndex(self.dimension)\n",
    "        for i, vec in enumerate(self.vectors):\n",
    "            self.index.add_item(i, vec.tolist())\n",
    "        self.index.build(number_of_trees)\n",
    "        \n",
    "    def query(self, vector, k=10):\n",
    "        indices = self.index.get_nns_by_vector(vector.tolist(), k, \n",
    "                                               search_k=5)                                           \n",
    "        return [self.labels[i] for i in indices]"
   ]
  },
  {
   "cell_type": "code",
   "execution_count": 164,
   "metadata": {},
   "outputs": [
    {
     "name": "stdout",
     "output_type": "stream",
     "text": [
      "(6040, 256)\n"
     ]
    },
    {
     "name": "stderr",
     "output_type": "stream",
     "text": [
      "/usr/local/lib/python3.6/dist-packages/ipykernel_launcher.py:9: FutureWarning: The default argument for metric will be removed in future version of Annoy. Please pass metric='angular' explicitly.\n",
      "  if __name__ == '__main__':\n"
     ]
    }
   ],
   "source": [
    "index = AnnoyIndex(embeddings,df[\"title\"])\n",
    "index.build()"
   ]
  },
  {
   "cell_type": "code",
   "execution_count": 165,
   "metadata": {},
   "outputs": [
    {
     "data": {
      "text/plain": [
       "['Leviton 5050 B01-0-000 Electrical Receptacle, 125/250 Vac, 50 A, 3 Pole, 3 Wire, Pack of 1, Black',\n",
       " 'EcoAqua EFF-6013A Replacement for GE MWF SmartWater, MWFA, MWFP, GWF, GWFA, Kenmore 469991 Refrigerator Water Filter',\n",
       " 'Deflecto Dryer Vent Hood, Wide Mouth, 4\", White (RVHAW4)',\n",
       " 'Supco RIM500 Universal Modular Ice Maker, Replaces Whirlpool 4317943, 4211173, 4210317, 625601, 797991, 8114, W10122496',\n",
       " 'Electrolux 218904301 O Ring Replacement',\n",
       " 'Jenn-Air 6\" Range Cooktop Stove Replacement Surface Burner Heating Element 12001231',\n",
       " 'Samsung Refrigerator Assembly Guard Right DA97-11520b',\n",
       " 'Whirlpool W10144820 Valve for Washer',\n",
       " 'var aPageStart = (new Date()).getTime();\\nvar ue_t0=ue_t0||+new Date();\\n\\nwindow.ue_ihb = (window.ue_ihb || window.ueinit || 0) + 1;\\nif (window.ue_ihb === 1) {\\n\\nvar ue_csm = window,\\n    ue_hob = +new Date();\\n(function(d){var e=d.ue=d.ue||{},f=Date.now||function(){return+new Date};e.d=function(b){return f()-(b?0:d.ue_t0)};e.stub=function(b,a){if(!b[a]){var c=[];b[a]=function(){c.push([c.slice.call(arguments),e.d(),d.ue_id])};b[a].replay=function(b){for(var a;a=c.shift();)b(a[0],a[1],a[2])};b[a].isStub=1}};e.exec=function(b,a){return function(){if(1==window.ueinit)try{return b.apply(this,arguments)}catch(c){ueLogError(c,{attribution:a||\"undefined\",logLevel:\"WARN\"})}}}})(ue_csm);\\n\\n\\n    var ue_err_chan = \\'jserr-rw\\';\\n(function(d,e){function h(f,b){if(!(a.ec>a.mxe)&&f){a.ter.push(f);b=b||{};var c=f.logLevel||b.logLevel;c&&c!==k&&c!==m&&c!==n&&c!==p||a.ec++;c&&c!=k||a.ecf++;b.pageURL=\"\"+(e.location?e.location.href:\"\");b.logLevel=c;b.attribution=f.attribution||b.attribution;a.erl.push({ex:f,info:b})}}function l(a,b,c,e,g){d.ueLogError({m:a,f:b,l:c,c:\"\"+e,err:g,fromOnError:1,args:arguments},g?{attribution:g.attribution,logLevel:g.logLevel}:void 0);return!1}var k=\"FATAL\",m=\"ERROR\",n=\"WARN\",p=\"DOWNGRADED\",a={ec:0,ecf:0,\\npec:0,ts:0,erl:[],ter:[],mxe:50,startTimer:function(){a.ts++;setInterval(function(){d.ue&&a.pec<a.ec&&d.uex(\"at\");a.pec=a.ec},1E4)}};l.skipTrace=1;h.skipTrace=1;h.isStub=1;d.ueLogError=h;d.ue_err=a;e.onerror=l})(ue_csm,window);\\n\\n\\nvar ue_id = \\'WKA1VNJY0TT83YVM1F9T\\',\\n    ue_url = \\'/gp/uedata\\',\\n    ue_navtiming = 1,\\n    ue_mid = \\'ATVPDKIKX0DER\\',\\n    ue_sid = \\'132-1098134-4505703\\',\\n    ue_sn = \\'www.amazon.com\\',\\n    ue_furl = \\'fls-na.amazon.com\\',\\n    ue_surl = \\'https://unagi-na.amazon.com/1/events/com.amazon.csm.nexusclient.prod\\',\\n    ue_int = 0,\\n    ue_fcsn = 1,\\n    ue_urt = 3,\\n    ue_rpl_ns = \\'cel-rpl\\',\\n    ue_ddq = 1,\\n    ue_fpf = \\'//fls-na.amazon.com/1/batch/1/OP/ATVPDKIKX0DER:132-1098134-4505703:WKA1VNJY0TT83YVM1F9T$uedata=s:\\',\\n    ue_rsc = 0,\\n    ue_mcimp = 3,\\n    ue_sbuimp = 1,\\n\\n    ue_swi = 1;\\nfunction ue_viz(){(function(c,e,a){function k(b){if(c.ue.viz.length<p&&!l){var a=b.type;b=b.originalEvent;/^focus./.test(a)&&b&&(b.toElement||b.fromElement||b.relatedTarget)||(a=e[m]||(\"blur\"==a||\"focusout\"==a?\"hidden\":\"visible\"),c.ue.viz.push(a+\":\"+(+new Date-c.ue.t0)),\"visible\"==a&&(ue.isl&&uex(\"at\"),l=1))}}for(var l=0,f,g,m,n=[\"\",\"webkit\",\"o\",\"ms\",\"moz\"],d=0,p=20,h=0;h<n.length&&!d;h++)if(a=n[h],f=(a?a+\"H\":\"h\")+\"idden\",d=\"boolean\"==typeof e[f])g=a+\"visibilitychange\",m=(a?a+\"V\":\"v\")+\"isibilityState\";\\nk({});d&&e.addEventListener(g,k,0);c.ue&&d&&(c.ue.pageViz={event:g,propHid:f})})(ue_csm,document,window)};\\n\\n(function(a,g,u){function x(a){return a&&a.replace&&a.replace(/^\\\\s+|\\\\s+$/g,\"\")}function q(a){return\"undefined\"===typeof a}function y(a){try{var b=u.cookie.match(RegExp(\"(^| )\"+a+\"=([^;]+)\"));if(b)return b[2].trim()}catch(c){}}function A(d,b){d&&(a.ue_id=h.id=h.rid=d,a.ue_fpf=a.ue_fpf.replace(/((.*?:){2})(\\\\w+)/,function(a,b){return b+d}));b&&(a.ue_fpf=a.ue_fpf.replace(/(.*?:)(\\\\w|-)+/,function(a,d){return d+b}),a.ue_sid=b);a.ue.tag(\"accelerated-experience\")}function t(d,b,c,k){var g=k||+new Date,n;\\na.ueam&&a.ueam(b,d,k);if(b||q(c)){if(d)for(n in k=b?f(\"t\",b)||f(\"t\",b,{}):a.ue.t,k[d]=g,c)c.hasOwnProperty(n)&&f(n,b,c[n]);return g}}function f(d,b,c){var f=a.ue,g=b&&b!=f.id?f.sc[b]:f;g||(g=f.sc[b]={});\"id\"==d&&c&&(f.cfa2=1);return g[d]=c||g[d]}function C(d,b,c,f,g){c=\"on\"+c;var n=b[c];\"function\"===typeof n?d&&(a.ue.h[d]=n):n=function(){};b[c]=g?function(a){f(a);n(a)}:function(a){n(a);f(a)};b[c]&&(b[c].isUeh=1)}function D(d,b,c){function k(b,c){var e=[b],J=0,g={},n,k;c?(e.push(\"m=1\"),g[c]=1):g=a.ue.sc;\\nfor(k in g)if(g.hasOwnProperty(k)){var l=f(\"wb\",k),h=f(\"t\",k)||{},p=f(\"t0\",k)||a.ue.t0,m;if(c||2==l){l=l?J++:\"\";e.push(\"sc\"+l+\"=\"+k);for(m in h)3>=m.length&&!q(h[m])&&null!==h[m]&&e.push(m+l+\"=\"+(h[m]-p));e.push(\"t\"+l+\"=\"+h[d]);if(f(\"ctb\",k)||f(\"wb\",k))n=1}}!z&&n&&e.push(\"ctb=1\");return e.join(\"&\")}function B(b,c,d,e){if(b){var f=a.ue_err,k;a.ue_url&&(!e||!a.ue.log)&&b&&0<b.length&&(k=new Image,a.ue.iel.push(k),k.src=b);K?a.ue_fpf&&g.encodeURIComponent&&b&&(e=new Image,b=\"\"+a.ue_fpf+g.encodeURIComponent(b)+\\n\":\"+(+new Date-a.ue_t0),a.ue.iel.push(e),e.src=b):a.ue.log&&(k=g.chrome&&\"ul\"==c,a.ue.log(b,\"uedata\",a.ue_svi?{n:1,img:!e&&k?1:0}:{n:1}),a.ue.ielf.push(b));f&&!f.ts&&f.startTimer();a.ue.b&&(f=a.ue.b,a.ue.b=\"\",B(f,c,d,1))}}function n(b){if(!ue.collected){var c=b.timing,e=b.navigation,d=ue.t;c&&(d.na_=c.navigationStart,d.ul_=c.unloadEventStart,d._ul=c.unloadEventEnd,d.rd_=c.redirectStart,d._rd=c.redirectEnd,d.fe_=c.fetchStart,d.lk_=c.domainLookupStart,d._lk=c.domainLookupEnd,d.co_=c.connectStart,d._co=\\nc.connectEnd,d.sc_=c.secureConnectionStart,d.rq_=c.requestStart,d.rs_=c.responseStart,d._rs=c.responseEnd,d.dl_=c.domLoading,d.di_=c.domInteractive,d.de_=c.domContentLoadedEventStart,d._de=c.domContentLoadedEventEnd,d._dc=c.domComplete,d.ld_=c.loadEventStart,d._ld=c.loadEventEnd,c=d.na_,b=\"function\"!==typeof b.now||q(c)?0:new Date(c+b.now())-new Date,d.ntd=b+a.ue.t0);e&&(d.ty=e.type+a.ue.t0,d.rc=e.redirectCount+a.ue.t0);ue.collected=1}}function s(b){var c=r&&r.navigation?r.navigation.type:w,d=c&&\\n2!=c,e=a.ue.bfini;a.ue.cfa2||(e&&1<e&&(b+=\"&bfform=1\",d||(a.ue.isBFT=e-1)),2==c&&(b+=\"&bfnt=1\",a.ue.isBFT=a.ue.isBFT||1),a.ue.ssw&&a.ue.isBFT&&(q(a.ue.isNRBF)&&(c=a.ue.ssw(a.ue.oid),c.e||q(c.val)||(a.ue.isNRBF=1<c.val?0:1)),q(a.ue.isNRBF)||(b+=\"&nrbf=\"+a.ue.isNRBF)),a.ue.isBFT&&!a.ue.isNRBF&&(b+=\"&bft=\"+a.ue.isBFT));return b}if(!h.paused&&(b||q(c))){for(var p in c)c.hasOwnProperty(p)&&f(p,b,c[p]);t(\"pc\",b,c);p=f(\"id\",b)||a.ue.id;var e=a.ue.url+\"?\"+d+\"&v=\"+a.ue.v+\"&id=\"+p,z=f(\"ctb\",b)||f(\"wb\",b),r=\\ng.performance||g.webkitPerformance,l,m;z&&(e+=\"&ctb=\"+z);1<a.ueinit&&(e+=\"&ic=\"+a.ueinit);!a.ue._fi||\"at\"!=d||b&&b!=p||(e+=a.ue._fi());if(!(\"ld\"!=d&&\"ul\"!=d||b&&b!=p)){if(\"ld\"==d){try{g.onbeforeunload&&g.onbeforeunload.isUeh&&(g.onbeforeunload=null)}catch(y){}if(g.chrome)for(m=0;m<ue.ulh.length;m++)E(\"beforeunload\",ue.ulh[m]);(m=u.ue_backdetect)&&m.ue_back&&m.ue_back.value++;a._uess&&(l=a._uess());a.ue.isl=1}ue._bf&&(e+=\"&bf=\"+ue._bf());a.ue_navtiming&&r&&r.timing&&(f(\"ctb\",p,\"1\"),1==a.ue_navtiming&&\\nt(\"tc\",w,w,r.timing.navigationStart));r&&n(r);a.ue.t.hob=a.ue_hob;a.ue.t.hoe=a.ue_hoe;a.ue.ifr&&(e+=\"&ifr=1\")}t(d,b,c);c=\"ld\"==d&&b&&f(\"wb\",b);var v;c||b&&b!==p||L(b);c||p==a.ue.oid||M((f(\"t\",b)||{}).tc||+f(\"t0\",b),+f(\"t0\",b));a.ue_mbl&&a.ue_mbl.cnt&&!c&&(e+=a.ue_mbl.cnt());c?f(\"wb\",b,2):\"ld\"==d&&(h.lid=x(p));for(v in a.ue.sc)if(1==f(\"wb\",v))break;if(c){if(a.ue.s)return;e=k(e,null)}else m=k(e,null),m!=e&&(m=s(m),a.ue.b=m),l&&(e+=l),e=k(e,b||a.ue.id);e=s(e);if(a.ue.b||c)for(v in a.ue.sc)2==f(\"wb\",\\nv)&&delete a.ue.sc[v];l=0;ue._rt&&(e+=\"&rt=\"+ue._rt());c||(a.ue.s=0,(l=a.ue_err)&&0<l.ec&&l.pec<l.ec&&(l.pec=l.ec,e+=\"&ec=\"+l.ec+\"&ecf=\"+l.ecf),l=f(\"ctb\",b),f(\"t\",b,{}));e&&a.ue.tag&&0<a.ue.tag().length&&(e+=\"&csmtags=\"+a.ue.tag().join(\"|\"),a.ue.tag=a.ue.tagC());e&&a.ue.viz&&0<a.ue.viz.length&&(e+=\"&viz=\"+a.ue.viz.join(\"|\"),a.ue.viz=[]);e&&!q(a.ue_pty)&&(e+=\"&pty=\"+a.ue_pty+\"&spty=\"+a.ue_spty+\"&pti=\"+a.ue_pti);e&&a.ue.tabid&&(e+=\"&tid=\"+a.ue.tabid);e&&a.ue.aftb&&(e+=\"&aftb=1\");e&&a.ue.sbf&&(e+=\"&sbf=1\");\\n!a.ue._ui||b&&b!=p||(e+=a.ue._ui());a.ue.a=e;B(e,d,l,c)}}function L(a){var b=g.ue_csm_markers||{},c;for(c in b)b.hasOwnProperty(c)&&t(c,a,w,b[c])}function s(d,b,c){c=c||g;a.ue_pel&&window.EventTarget&&window.EventTarget.prototype&&window.EventTarget.prototype.addEventListener?window.EventTarget.prototype.addEventListener.call(c,d,b,!!window.ue_clf):c.addEventListener?c.addEventListener(d,b,!!window.ue_clf):c.attachEvent&&c.attachEvent(\"on\"+d,b)}function E(d,b,c){c=c||g;a.ue_pel&&window.EventTarget&&\\nwindow.EventTarget.prototype&&window.EventTarget.prototype.removeEventListener?window.EventTarget.prototype.removeEventListener.call(c,d,b,!!window.ue_clf):c.removeEventListener?c.removeEventListener(d,b,!!window.ue_clf):c.detachEvent&&c.detachEvent(\"on\"+d,b)}function F(){function d(){a.onUl()}function b(a){return function(){c[a]||(c[a]=1,D(a))}}var c=a.ue.r,f,h;a.onLd=b(\"ld\");a.onLdEnd=b(\"ld\");a.onUl=b(\"ul\");f={stop:b(\"os\")};g.chrome?(s(\"beforeunload\",d),ue.ulh.push(d)):f[N]=a.onUl;for(h in f)f.hasOwnProperty(h)&&\\nC(0,g,h,f[h]);a.ue_viz&&ue_viz();O&&s(\"readystatechange\",P,u);s(\"load\",a.onLd);t(\"ue\")}function P(){\"complete\"===u.readyState&&(Q?setTimeout(G,0):G())}function G(){var d;if(!(d=ue.isl)&&(d=R))a:{d=u.images||[];for(var b=0;b<d.length;b++)if(!1===d[b].complete){d=!1;break a}d=!0}if(!d)a.onUl()}function M(d,b){a.ue_mbl&&a.ue_mbl.ajax&&a.ue_mbl.ajax(d,b);a.ue.tag(\"ajax-transition\")}a.ueinit=(a.ueinit||0)+1;var h={t0:g.aPageStart||a.ue_t0,id:a.ue_id,url:a.ue_url,rid:a.ue_id,a:\"\",b:\"\",h:{},r:{ld:0,oe:0,\\nul:0},s:1,t:{},sc:{},iel:[],ielf:[],fc_idx:{},viz:[],v:\"0.202589.0\",d:a.ue&&a.ue.d,log:a.ue&&a.ue.log,clog:a.ue&&a.ue.clog,onflush:a.ue&&a.ue.onflush,onunload:a.ue&&a.ue.onunload,stub:a.ue&&a.ue.stub,lr:a.ue&&a.ue.lr,exec:a.ue&&a.ue.exec,event:a.ue&&a.ue.event,onSushiUnload:a.ue&&a.ue.onSushiUnload,onSushiFlush:a.ue&&a.ue.onSushiFlush,ulh:[],cfa2:0,paused:!1},K=a.ue_fpf?1:0,O=1===a.ue_rsc||3===a.ue_rsc,Q=3===a.ue_rsc,R=1===a.ue_rsc,N=\"beforeunload\",w;h.oid=x(h.id);h.lid=x(h.id);a.ue=h;a.ue._t0=a.ue.t0;\\na.ue.tagC=function(){var a={};return function(b){b&&(a[b]=1);b=[];for(var c in a)a.hasOwnProperty(c)&&b.push(c);return b}};a.ue.tag=a.ue.tagC();a.ue.ifr=g.top!==g.self||g.frameElement?1:0;ue.attach=s;ue.detach=E;if(\"000-0000000-8675309\"===a.ue_sid){var H=y(\"cdn-rid\"),I=y(\"session-id\");H&&I&&A(H,I)}a.uei=F;a.ueh=C;a.ues=f;a.uet=t;a.uex=D;h.reset=A;h.pause=function(a){h.paused=a};F()})(ue_csm,window,ue_csm.document);\\n\\n\\nue.stub(ue,\"event\");ue.stub(ue,\"onSushiUnload\");ue.stub(ue,\"onSushiFlush\");\\n\\nue.stub(ue,\"log\");ue.stub(ue,\"onunload\");ue.stub(ue,\"onflush\");\\n(function(c){var a=c.ue;a.cv={};a.cv.scopes={};a.count=function(d,c,b){var e={},f=a.cv,g=b&&0===b.c;e.counter=d;e.value=c;e.t=a.d();b&&b.scope&&(f=a.cv.scopes[b.scope]=a.cv.scopes[b.scope]||{},e.scope=b.scope);if(void 0===c)return f[d];f[d]=c;d=0;b&&b.bf&&(d=1);ue_csm.ue_sclog||!a.clog||0!==d||g?a.log&&a.log(e,\"csmcount\",{c:1,bf:d}):a.clog(e,\"csmcount\",{bf:d})};a.count(\"baselineCounter2\",1);a&&a.event&&(a.event({requestId:c.ue_id||\"rid\",server:c.ue_sn||\"sn\",obfuscatedMarketplaceId:c.ue_mid||\"mid\"},\\n\"csm\",\"csm.CSMBaselineEvent.4\"),a.count(\"nexusBaselineCounter\",1,{bf:1}))})(ue_csm);\\n\\n\\n\\nvar ue_hoe = +new Date();\\n}\\nwindow.ueinit = window.ue_ihb;\\n\\n\\n\\n\\n(function(g,h,O,pa){function k(a){w&&w.tag&&w.tag(q(\":\",\"aui\",a))}function v(a,b){w&&w.count&&w.count(\"aui:\"+a,0===b?0:b||(w.count(\"aui:\"+a)||0)+1)}function l(a){try{return a.test(navigator.userAgent)}catch(b){return!1}}function x(a,b,c){a.addEventListener?a.addEventListener(b,c,!1):a.attachEvent&&a.attachEvent(\"on\"+b,c)}function q(a,b,c,d){b=b&&c?b+a+c:b||c;return d?q(a,b,d):b}function F(a,b,c){try{Object.defineProperty(a,b,{value:c,writable:!1})}catch(d){a[b]=c}return c}function P(){return setTimeout(Y,\\n0)}function qa(a,b){var c=a.length,d=c,f=function(){d--||(Q.push(b),R||(P(),R=!0))};for(f();c--;)Z[a[c]]?f():(z[a[c]]=z[a[c]]||[]).push(f)}function ra(a,b,c,d,f){var e=h.createElement(a?\"script\":\"link\");x(e,\"error\",d);f&&x(e,\"load\",f);if(a){e.type=\"text/javascript\";e.async=!0;if(a=c)a=-1!==b.indexOf(\"images/I\")||/AUIClients/.test(b);a&&e.setAttribute(\"crossorigin\",\"anonymous\");e.src=b}else e.rel=\"stylesheet\",e.href=b;h.getElementsByTagName(\"head\")[0].appendChild(e)}function aa(a,b){function c(c,d){function f(){ra(b,\\nc,h,function(b){!G&&h?(h=!1,v(\"resource_retry\"),f()):(v(\"resource_error\"),a.log(\"Asset failed to load: \"+c,G?\"WARN\":void 0));b&&b.stopPropagation?b.stopPropagation():g.event&&(g.event.cancelBubble=!0)},d)}if(ba[c])return!1;ba[c]=!0;v(\"resource_count\");var h=!0;return!f()}if(b){var d=0,f=0;c.andConfirm=function(a,b){return c(a,function(){d++;b&&b.apply(this,arguments)})};c.confirm=function(){f++};c.getCsriCounters=function(){return{reqs:d,full:f}}}return c}function sa(a,b,c){for(var d={name:a,guard:function(c){return b.guardFatal(a,\\nc)},logError:function(c,d,f){b.logError(c,d,f,a)}},f=[],e=0;e<c.length;e++)H.hasOwnProperty(c[e])&&(f[e]=S.hasOwnProperty(c[e])?S[c[e]](H[c[e]],d):H[c[e]]);return f}function A(a,b,c,d,f){return function(e,h){function n(){var a=null;d?a=h:\"function\"===typeof h&&(p.start=B(),a=h.apply(g,sa(e,k,l)),p.end=B());if(b){H[e]=a;a=e;for(Z[a]=!0;(z[a]||[]).length;)z[a].shift()();delete z[a]}p.done=!0}var k=f||this;\"function\"===typeof e&&(h=e,e=void 0);b&&(e=e?e.replace(ca,\"\"):\"__NONAME__\",T.hasOwnProperty(e)&&\\nk.error(q(\", reregistered by \",q(\" by \",e+\" already registered\",T[e]),k.attribution),e),T[e]=k.attribution);for(var l=[],m=0;m<a.length;m++)l[m]=a[m].replace(ca,\"\");var p=da[e||\"anon\"+ ++ta]={depend:l,registered:B(),namespace:k.namespace};c?n():qa(l,k.guardFatal(e,n));return{decorate:function(a){S[e]=k.guardFatal(e,a)}}}}function ea(a){return function(){var b=Array.prototype.slice.call(arguments);return{execute:A(b,!1,a,!1,this),register:A(b,!0,a,!1,this)}}}function U(a,b){return function(c,d){d||\\n(d=c,c=void 0);var f=this.attribution;return function(){y.push(b||{attribution:f,name:c,logLevel:a});var e=d.apply(this,arguments);y.pop();return e}}}function I(a,b){this.load={js:aa(this,!0),css:aa(this)};F(this,\"namespace\",b);F(this,\"attribution\",a)}function fa(){h.body?r.trigger(\"a-bodyBegin\"):setTimeout(fa,20)}function C(a,b){if(b){for(var c=a.className.split(\" \"),d=c.length;d--;)if(c[d]===b)return;a.className+=\" \"+b}}function ga(a,b){for(var c=a.className.split(\" \"),d=[],f;void 0!==(f=c.pop());)f&&\\nf!==b&&d.push(f);a.className=d.join(\" \")}function ha(a){try{return a()}catch(b){return!1}}function J(){if(K){var a=g.innerWidth?{w:g.innerWidth,h:g.innerHeight}:{w:m.clientWidth,h:m.clientHeight};5<Math.abs(a.w-V.w)||50<a.h-V.h?(V=a,L=4,(a=n.mobile||n.tablet?450<a.w&&a.w>a.h:1250<=a.w)?C(m,\"a-ws\"):ga(m,\"a-ws\")):0<L&&(L--,ia=setTimeout(J,16))}}function ua(a){(K=void 0===a?!K:!!a)&&J()}function va(){return K}function t(a,b){return\"sw:\"+(b||\"\")+\":\"+a+\":\"}function ja(a,b,c,d){if(c){b=l(/Chrome/i)&&!l(/Edge/i)&&\\n!l(/OPR/i)&&!a.capabilities.isAmazonApp;var f=t(d,\"browser\"),e=t(d,\"prod_mshop\"),g=t(d,\"beta_mshop\");!a.capabilities.isAmazonApp&&c.browser&&b&&(k(f+\"supported\"),c.browser.action(f,d));!b&&c.browser&&k(f+\"unsupported\");c.prodMshop&&k(e+\"unsupported\");c.betaMshop&&k(g+\"unsupported\")}}\"use strict\";var M=O.now=O.now||function(){return+new O},B=function(a){return a&&a.now?a.now.bind(a):M}(g.performance);pa=B();var u=g.AmazonUIPageJS||g.P;if(u&&u.when&&u.register)throw Error(\"A copy of P has already been loaded on this page.\");\\nvar w=g.ue;k();k(\"aui_build_date:3.18.16-2018-12-25\");var Q=[],R=!1,Y;Y=function(){for(var a=P(),b=M();Q.length;)if(Q.shift()(),50<M()-b)return;clearTimeout(a);R=!1};l(/OS 6_[0-9]+ like Mac OS X/i)&&x(g,\"scroll\",P);var Z={},z={},ba={},G=!1;x(g,\"beforeunload\",function(){G=!0;setTimeout(function(){G=!1},1E4)});var ca=/^prv:/,T={},H={},S={},da={},ta=0,D,y=[],ka=g.onerror;g.onerror=function(a,b,c,d,f){f&&\"object\"===typeof f||(f=Error(a,b,c),f.columnNumber=d,f.stack=b||c||d?q(String.fromCharCode(92),f.message,\\n\"at \"+q(\":\",b,c,d)):void 0);var e=y.pop()||{};f.attribution=q(\":\",f.attribution||e.attribution,e.name);f.logLevel=e.logLevel;f.attribution&&console&&console.log&&console.log([f.logLevel||\"ERROR\",a,\"thrown by\",f.attribution].join(\" \"));y=[];ka&&(e=[].slice.call(arguments),e[4]=f,ka.apply(g,e))};I.prototype={logError:function(a,b,c,d){b={message:b,logLevel:c||\"ERROR\",attribution:q(\":\",this.attribution,d)};if(g.ueLogError)return g.ueLogError(a||b,a?b:null),!0;console&&console.error&&(console.log(b),\\nconsole.error(a));return!1},error:function(a,b,c,d){a=Error(q(\":\",d,a,c));a.attribution=q(\":\",this.attribution,b);throw a;},guardError:U(),guardFatal:U(\"FATAL\"),guardCurrent:function(a){var b=y[y.length-1];return b?U(b.logLevel,b).call(this,a):a},log:function(a,b,c){return this.logError(null,a,b,c)},declare:A([],!0,!0,!0),register:A([],!0),execute:A([]),AUI_BUILD_DATE:\"3.18.16-2018-12-25\",when:ea(),now:ea(!0),trigger:function(a,b,c){var d=M();this.declare(a,{data:b,pageElapsedTime:d-(g.aPageStart||\\nNaN),triggerTime:d});c&&c.instrument&&D.when(\"prv:a-logTrigger\").execute(function(b){b(a)})},handleTriggers:function(){this.log(\"handleTriggers deprecated\")},attributeErrors:function(a){return new I(a)},_namespace:function(a,b){return new I(a,b)}};var r=F(g,\"AmazonUIPageJS\",new I);D=r._namespace(\"PageJS\",\"AmazonUI\");D.declare(\"prv:p-debug\",da);r.declare(\"p-recorder-events\",[]);r.declare(\"p-recorder-stop\",function(){});F(g,\"P\",r);fa();if(h.addEventListener){var la;h.addEventListener(\"DOMContentLoaded\",\\nla=function(){r.trigger(\"a-domready\");h.removeEventListener(\"DOMContentLoaded\",la,!1)},!1)}var m=h.documentElement,W=function(){var a=[\"O\",\"ms\",\"Moz\",\"Webkit\"],b=h.createElement(\"div\");return{testGradients:function(){b.style.cssText=\"background-image:-webkit-gradient(linear,left top,right bottom,from(#9f9),to(white));background-image:-webkit-linear-gradient(left top,#9f9,white);background-image:linear-gradient(left top,#9f9,white);\";return-1<b.style.backgroundImage.indexOf(\"gradient\")},test:function(c){var d=\\nc.charAt(0).toUpperCase()+c.substr(1);c=(a.join(d+\" \")+d+\" \"+c).split(\" \");for(d=c.length;d--;)if(\"\"===b.style[c[d]])return!0;return!1},testTransform3d:function(){var a=!1;g.matchMedia&&(a=g.matchMedia(\"(-webkit-transform-3d)\").matches);return a}}}(),u=m.className,ma=/(^| )a-mobile( |$)/.test(u),na=/(^| )a-tablet( |$)/.test(u),n={audio:function(){return!!h.createElement(\"audio\").canPlayType},video:function(){return!!h.createElement(\"video\").canPlayType},canvas:function(){return!!h.createElement(\"canvas\").getContext},\\nsvg:function(){return!!h.createElementNS&&!!h.createElementNS(\"http://www.w3.org/2000/svg\",\"svg\").createSVGRect},offline:function(){return navigator.hasOwnProperty&&navigator.hasOwnProperty(\"onLine\")&&navigator.onLine},dragDrop:function(){return\"draggable\"in h.createElement(\"span\")},geolocation:function(){return!!navigator.geolocation},history:function(){return!(!g.history||!g.history.pushState)},webworker:function(){return!!g.Worker},autofocus:function(){return\"autofocus\"in h.createElement(\"input\")},\\ninputPlaceholder:function(){return\"placeholder\"in h.createElement(\"input\")},textareaPlaceholder:function(){return\"placeholder\"in h.createElement(\"textarea\")},localStorage:function(){return\"localStorage\"in g&&null!==g.localStorage},orientation:function(){return\"orientation\"in g},touch:function(){return\"ontouchend\"in h},gradients:function(){return W.testGradients()},hires:function(){var a=g.devicePixelRatio&&1.5<=g.devicePixelRatio||g.matchMedia&&g.matchMedia(\"(min-resolution:144dpi)\").matches;v(\"hiRes\"+\\n(ma?\"Mobile\":na?\"Tablet\":\"Desktop\"),a?1:0);return a},transform3d:function(){return W.testTransform3d()},touchScrolling:function(){return l(/Windowshop|android.([3-9]|[L-Z])|OS ([5-9]|[1-9][0-9]+)(_[0-9]{1,2})+ like Mac OS X|Chrome|Silk|Firefox|Trident.+?; Touch/i)},ios:function(){return l(/OS [1-9][0-9]*(_[0-9]*)+ like Mac OS X/i)&&!l(/trident|Edge/i)},android:function(){return l(/android.([1-9]|[L-Z])/i)&&!l(/trident|Edge/i)},mobile:function(){return ma},tablet:function(){return na}},p;for(p in n)n.hasOwnProperty(p)&&\\n(n[p]=ha(n[p]));for(var X=\"textShadow textStroke boxShadow borderRadius borderImage opacity transform transition\".split(\" \"),N=0;N<X.length;N++)n[X[N]]=ha(function(){return W.test(X[N])});var K=!0,ia=0,V={w:0,h:0},L=4;J();x(g,\"resize\",function(){clearTimeout(ia);L=4;J()});var oa={getItem:function(a){try{return g.localStorage.getItem(a)}catch(b){}},setItem:function(a,b){try{return g.localStorage.setItem(a,b)}catch(c){}}};ga(m,\"a-no-js\");C(m,\"a-js\");!l(/OS [1-8](_[0-9]*)+ like Mac OS X/i)||g.navigator.standalone||\\nl(/safari/i)||C(m,\"a-ember\");u=[];for(p in n)n.hasOwnProperty(p)&&n[p]&&u.push(\"a-\"+p.replace(/([A-Z])/g,function(a){return\"-\"+a.toLowerCase()}));C(m,u.join(\" \"));m.setAttribute(\"data-aui-build-date\",\"3.18.16-2018-12-25\");r.register(\"p-detect\",function(){return{capabilities:n,localStorage:n.localStorage&&oa,toggleResponsiveGrid:ua,responsiveGridEnabled:va}});l(/UCBrowser/i)||n.localStorage&&C(m,oa.getItem(\"a-font-class\"));r.declare(\"a-event-revised-handling\",!1);var E=navigator.serviceWorker;E&&x(E,\\n\"message\",function(a){a&&a.data&&v(a.data.k,a.data.v)});p={reg:{},unreg:{}};p.unreg.browser={action:function(a,b){var c=E.getRegistrations();c&&c.then(function(c){c.forEach(function(c){c.unregister().then(function(){v(a+\"success\")}).catch(function(c){r.logError(c,\"[AUI SW] Failed to \"+b+\" service worker: \");v(a+\"failure\")})})})}};(function(a){var b=a.reg,c=a.unreg;E&&E.getRegistrations?(D.when(\"A\",\"a-util\").execute(function(a,b){ja(a,b,c,\"unregister\")}),x(g,\"load\",function(){D.when(\"A\",\"a-util\").execute(function(a,\\nc){ja(a,c,b,\"register\")})})):(b&&(b.browser&&k(t(\"register\",\"browser\")+\"unsupported\"),b.prodMshop&&k(t(\"register\",\"prod_mshop\")+\"unsupported\"),b.betaMshop&&k(t(\"register\",\"beta_mshop\")+\"unsupported\")),c&&(c.browser&&k(t(\"unregister\",\"browser\")+\"unsupported\"),c.prodMshop&&k(t(\"unregister\",\"prod_mshop\")+\"unsupported\"),c.betaMshop&&k(t(\"unregister\",\"beta_mshop\")+\"unsupported\")))})(p);r.declare(\"a-fix-event-off\",!1);v(\"pagejs:pkgExecTime\",B()-NaN)})(window,document,Date);\\n(window.AmazonUIPageJS ? AmazonUIPageJS : P).when(\\'sp.load.js\\').execute(function() {\\n  (window.AmazonUIPageJS ? AmazonUIPageJS : P).load.js(\\'https://images-na.ssl-images-amazon.com/images/I/61o5HuBKUHL._RC|11IYhapguOL.js,61VQRvc280L.js,21iSNz47xoL.js,012FVc3131L.js,119KAWlHU6L.js,31fv8bqHLoL.js,31ReKJl2X6L.js,51WivJzk7vL.js,11AHlQhPRjL.js,01NATrwbNUL.js,11aNYFFS5hL.js,116tgw9TSaL.js,21auxuI+dRL.js,01PoLXBDXWL.js,61GDyZ5kYqL.js,01mi-J86cyL.js,11BOgvnnntL.js,31SG6rlHlbL.js,01rpauTep4L.js,01iyxuSGj4L.js,01XI-Ief5sL.js_.js?AUIClients/AmazonUI#168183-T1.177619-T1.144375-T1\\');\\n});\\n\\n\\n.nav-sprite-v1 .nav-sprite, .nav-sprite-v1 .nav-icon {\\n  background-image: url(https://images-na.ssl-images-amazon.com/images/G/01/gno/sprites/nav-sprite-global_bluebeacon-V3-1x_optimized._CB483188077_.png);\\n  background-position: 0 1000px;\\n  background-repeat: repeat-x;\\n}\\n.nav-spinner {\\n  background-image: url(https://images-na.ssl-images-amazon.com/images/G/01/javascripts/lib/popover/images/snake._CB192571611_.gif);\\n  background-position: center center;\\n  background-repeat: no-repeat;\\n}\\n.nav-timeline-icon, .nav-access-image, .nav-timeline-prime-icon {\\n  background-image: url(https://images-na.ssl-images-amazon.com/images/G/01/gno/sprites/timeline_sprite_1x._CB276239408_.png);\\n  background-repeat: no-repeat;\\n}\\n\\n\\n\\n\\n\\n.ap_popover_unsprited .ap_body .ap_left{background-image:url(https://images-na.ssl-images-amazon.com/images/G/01/javascripts/lib/popover/images/po_left_17._V1_.png)}.ap_popover_unsprited .ap_body .ap_right{background-image:url(https://images-na.ssl-images-amazon.com/images/G/01/javascripts/lib/popover/images/po_right_17._V1_.png)}.ap_popover_unsprited .ap_header .ap_left{background-image:url(https://images-na.ssl-images-amazon.com/images/G/01/javascripts/lib/popover/images/po_top_left._V1_.png)}.ap_popover_unsprited .ap_header .ap_right{background-image:url(https://images-na.ssl-images-amazon.com/images/G/01/javascripts/lib/popover/images/po_top_right._V1_.png)}.ap_popover_unsprited .ap_header .ap_middle{background-image:url(https://images-na.ssl-images-amazon.com/images/G/01/javascripts/lib/popover/images/po_top._V1_.png)}.ap_popover_unsprited .ap_footer .ap_left{background-image:url(https://images-na.ssl-images-amazon.com/images/G/01/javascripts/lib/popover/images/po_bottom_left._V1_.png)}.ap_popover_unsprited .ap_footer .ap_right{background-image:url(https://images-na.ssl-images-amazon.com/images/G/01/javascripts/lib/popover/images/po_bottom_right._V1_.png)}.ap_popover_unsprited .ap_footer .ap_middle{background-image:url(https://images-na.ssl-images-amazon.com/images/G/01/javascripts/lib/popover/images/po_bottom._V1_.png)}.ap_popover_sprited .ap_body .ap_left,.ap_popover_sprited .ap_body .ap_right{background-image:url(https://images-na.ssl-images-amazon.com/images/G/01/javascripts/lib/popover/images/light/sprite-v._V1_.png)}.ap_popover_sprited .ap_closebutton,.ap_popover_sprited .ap_footer .ap_left,.ap_popover_sprited .ap_footer .ap_middle,.ap_popover_sprited .ap_footer .ap_right,.ap_popover_sprited .ap_header .ap_left,.ap_popover_sprited .ap_header .ap_middle,.ap_popover_sprited .ap_header .ap_right{background-image:url(https://images-na.ssl-images-amazon.com/images/G/01/javascripts/lib/popover/images/light/sprite-h._V1_.png)}.ap_popover_sprited .ap_body .ap_left-arrow,.ap_popover_sprited .ap_body .ap_right-arrow{background-image:url(https://images-na.ssl-images-amazon.com/images/G/01/javascripts/lib/popover/images/light/sprite-arrow-v._V1_.png)}.ap_popover{position:absolute;outline:0}.ap_body{height:100%;min-height:36px;position:relative;background-color:#fff;margin:0 17px}.ap_body .ap_left,.ap_popover_sprited .ap_body .ap_left-arrow{width:17px;height:100%;position:absolute;top:0;left:-17px;background-attachment:scroll;background-repeat:repeat-y}.ap_popover_sprited .ap_body .ap_left{background-position:0 top}.ap_body .ap_right,.ap_popover_sprited .ap_body .ap_right-arrow{width:17px;height:100%;position:absolute;top:0;right:-17px;background-attachment:scroll;background-repeat:repeat-y}.ap_popover_sprited .ap_body .ap_right{background-position:-51px top}.ap_footer,.ap_header{position:relative;width:100%}.ap_footer *,.ap_header *{height:26px}.ap_header .ap_left{position:absolute;top:0;left:0;width:34px;background-attachment:scroll;background-repeat:no-repeat}.ap_popover_sprited .ap_header .ap_left{background-position:left -2px}.ap_header .ap_right{width:34px;position:absolute;top:0;right:0;background-attachment:scroll;background-repeat:no-repeat}.ap_popover_sprited .ap_header .ap_right{background-position:right -2px}.ap_header .ap_middle{margin:0 34px;background-attachment:scroll;background-repeat:repeat-x}.ap_popover_sprited .ap_header .ap_middle{background-position:0 -70px}.ap_footer .ap_left{position:absolute;top:0;left:0;width:34px;background-attachment:scroll;background-repeat:no-repeat}.ap_popover_sprited .ap_footer .ap_left{background-position:left -40px}.ap_footer .ap_right{width:34px;position:absolute;top:0;right:0;background-attachment:scroll;background-repeat:no-repeat}.ap_popover_sprited .ap_footer .ap_right{background-position:right -40px}.ap_footer .ap_middle{margin:0 34px;background-attachment:scroll;background-repeat:repeat-x}.ap_popover_sprited .ap_footer .ap_middle{background-position:0 -108px}.ap_popover .ap_titlebar{display:none;position:absolute;left:0;top:0;background-color:#EAF3FE;border-bottom:1px solid #C2DDF2;font-size:14px;font-weight:700;margin:8px 18px;white-space:nowrap;overflow:hidden}.ap_popover .ap_titlebar.multiline{white-space:normal;overflow:visible}.ap_popover .ap_titlebar .ap_title{padding:4px 0;margin-left:10px;overflow:hidden}#ap_overlay,#ap_overlay div{background-color:#3F4C58;width:100%;position:absolute;top:0;left:0;z-index:99}.ap_popover .ap_close{position:absolute;right:18px;top:13px}.ap_popover .ap_close a{padding:5px;text-decoration:none;outline:0}.ap_popover .ap_close .ap_closetext{display:none;margin-right:5px;line-height:1em}.ap_popover .ap_closebutton{display:-moz-inline-box;display:inline-block;width:15px;height:15px;background-repeat:no-repeat;background-position:0 -136px;position:relative;overflow:hidden;vertical-align:top}.ap_popover .ap_closebutton span{position:absolute;top:-9999px}.ap_popover .ap_close img{vertical-align:top}.ap_classic{border-top:1px solid #ccc;border-left:1px solid #ccc;border-bottom:1px solid #2F2F1D;border-right:1px solid #2F2F1D;background-color:#EFEDD4;padding:3px}.ap_classic .ap_titlebar{color:#86875D;font-size:12px;padding:0 0 3px 0;line-height:1em}.ap_classic .ap_close{float:right}.ap_classic .ap_content{clear:both;background-color:#fff;border:1px solid #ACA976;padding:8px;font-size:11px}\\n\\n\\n\\n\\n(function(d,b,m){function c(a){return\"--private-amznjqshim-\"+a}function e(a,l){var b=c(l);d.now(b).execute(c(a+\"-\"+b)+\"-\"+f++,function(a){void 0===a&&d.declare(b,!0)})}function h(a){e(\"markRequested\",\"functionality-requested:\"+a)}function g(a){e(\"completedStage\",\"stage-\"+a)}b.goN2Debug||(b.goN2Debug={info:function(){}});\"use strict\";var f=0,k=b.amznJQ=new function(){this.addLogical=this.addStyle=this.addStyles=this.PLNow=this.windowOnLoad=function(){};this.declareAvailable=function(a){e(\"declaring\",\\na)};this.available=function(a,b){a=c(a);h(a);d.when(a,c(\"jQuery\")).execute(c(\"available-\"+a)+\"-\"+f++,b)};this.onReady=function(a,b){a=c(a);h(a);d.when(a,\"a-domready\",c(\"jQuery\")).execute(c(\"onReady-\"+a)+\"-\"+f++,b)};this.onCompletion=function(a,b){var e=c(\"stage-\"+a);d.when(e,c(\"jQuery\")).execute(b)};this.completedStage=function(a){g(a)};this.addPL=function(a){d.when(\"a-preload\").execute(c(\"Preloader\")+\"-\"+f++,function(b){b.preload(a)})};this.strings={};this.chars={}};d.when(\"load\").execute(c(\"fail-safe-stages\"),\\nfunction(){g(\"amznJQ.theFold\");g(\"amznJQ.criticalFeature\")});d.when(\"jQuery\").execute(\"define amznJQ jQuery\",function(a){b.jQuery||(b.jQuery=a);k.jQuery||(k.jQuery=a);e(\"declaring\",\"jQuery\")})})(window.P||window.AmazonUIPageJS,window,document);\\n(window.AmazonUIPageJS ? AmazonUIPageJS : P).when(\\'atf\\').execute(function(){\\n  (window.AmazonUIPageJS ? AmazonUIPageJS : P).load.js(\\'https://images-na.ssl-images-amazon.com/images/I/417QjYmMtBL.js?AUIClients/AmazonPopoversAUIShim#us\\');\\n  (window.AmazonUIPageJS ? AmazonUIPageJS : P).load.js(\\'https://images-na.ssl-images-amazon.com/images/I/31gnJjWvxPL._RC|11div+n5b+L.js,21lOtnkorWL.js,51CysS8km3L.js,31g6QUCju5L.js,21+4XneTXRL.js,318rs4piGPL.js,01jEqq6I0UL.js,0185ITV0M6L.js,41+MVzL0WbL.js,217XOv1WjVL.js,01Gx8DhrplL.js,011qZnP-NfL.js,11H+quk5jAL.js,21FBJlPfM6L.js,11ZdiaYG8gL.js,81Mo7y0dCeL.js,6179IBZcR+L.js,31UjTApGOPL.js,01LHJt5PiyL.js,11B9yJN+bnL.js,31Ac-cQ+ZWL.js,01fEkjo0KKL.js,0193uyIciNL.js,41D4kRuiy9L.js,31ad06VRAqL.js,11e9-8uUHQL.js,01s9HEfbt3L.js,11iHZuQapKL.js,61iXRFOTloL.js,11WBo+4152L.js,11MQqFPEK+L.js,41EDKFa-8YL.js,11G4c43OZvL.js,21Ug6yrFIdL.js,3133OUNaHqL.js,11jf5oS-4FL.js,01X2zigX4kL.js,210mdW2-ZEL.js,21mymEONFtL.js,61+TkNaM7yL.js,515EXqsrGfL.js,21OJDARBhQL.js,41s+OBPxTPL.js,01IWUb29Q4L.js,01JzE3-DfLL.js_.js?AUIClients/USHardlinesDetailPageMetaAssetFixed#desktop.us.164772-T1.141052-T1.146207-T1.172469-T1.155915-T1.111960-T1.146883-T1.151985-T1.136850-T1.123392-T1.114779-T1.120067-T1.131900-T1.184660-C.162909-C.108310-T1.156391-T1.80562-T1.107686-T1.172346-T1.133003-T1\\');\\n  (window.AmazonUIPageJS ? AmazonUIPageJS : P).load.js(\\'https://images-na.ssl-images-amazon.com/images/I/21e71NrLt3L._RC|11Ze1YhMgJL.js,21Wa0ZZVAmL.js,31qpl48GBDL.js,41UXUgXh7tL.js,31bQ6uPDcgL.js,312xLUEw6sL.js,51EkUAdxEhL.js,21NDIsf0a1L.js,015TRQC5i+L.js,61e7xszHEhL.js,01lcH4zcTaL.js,01OtvpwikQL.js,51TAluzWqWL.js,01qwoVEkKlL.js,21mR+GlPoIL.js,01qXU4-2A0L.js,11wTwl+500L.js,517jAXjzzNL.js,01qPwv8D5hL.js,01YivelYW5L.js,016QFWAAdML.js,41dzl0sSZuL.js,11Gx+6S5O-L.js,21IZ0MO8WtL.js,41FZjmiJywL.js,017s5z---TL.js,31ZS5TQVWDL.js,51p2fLVTtlL.js,51ldtX6xp6L.js,21w43LSQ1-L.js,01FOcSLtmBL.js_.js?AUIClients/USHardlinesDetailPageMetaAssetVariable_TURBO_DESKTOP#desktop.us.171964-T1.137613-T1.159929-T1.146207-T1.167162-T1.153662-T1.103061-T1.123392-T1.153197-T1.150150-T1.152622-T1.127433-T1.126331-T1.179985-T1.87783-T2.159402-T1.108343-T1.109378-T1.143147-T1.147957-T1.154031-T1.171818-T1.169593-T1\\');\\n});\\n\\n{\"deviceType\":\"web\"}\\n{\"widgetSchema\":\"dp:widget:\",\"dimensionSchema\":\"dp:dims:\"}\\n\\n\\n  #cm_cr_dpwidget .a-size-micro {\\n    font-size: 9px;\\n  } \\n\\n  #cm_cr_dpwidget .c7yTopDownDashedStrike {\\n    border-top: 1px dashed #A9A9A9;\\n    border-bottom: 1px dashed #A9A9A9;\\n  }\\n\\n  #cm_cr_dpwidget .c7yBadgeAUI {\\n    text-transform: uppercase;\\n    letter-spacing: 0.5px;\\n    padding: 2px;\\n    white-space: nowrap;\\n  }\\n\\n\\n.nav-sprite-v1 .nav-sprite, .nav-sprite-v1 .nav-icon {\\n  background-image: url(https://images-na.ssl-images-amazon.com/images/G/01/gno/sprites/nav-sprite-global_bluebeacon-V3-1x_optimized._CB483188077_.png);\\n  background-position: 0 1000px;\\n  background-repeat: repeat-x;\\n}\\n.nav-spinner {\\n  background-image: url(https://images-na.ssl-images-amazon.com/images/G/01/javascripts/lib/popover/images/snake._CB192571611_.gif);\\n  background-position: center center;\\n  background-repeat: no-repeat;\\n}\\n.nav-timeline-icon, .nav-access-image, .nav-timeline-prime-icon {\\n  background-image: url(https://images-na.ssl-images-amazon.com/images/G/01/gno/sprites/timeline_sprite_1x._CB276239408_.png);\\n  background-repeat: no-repeat;\\n}\\n\\n\\n  \\n    .tagEdit {\\n      padding-bottom:4px;\\n      padding-top:4px;\\n    }\\n\\n    .edit-tag {\\n      width: 155px;\\n      margin-left: 10px;\\n    }\\n\\n    .list-tags {\\n      white-space: nowrap;\\n      padding: 1px 0px 0px 0px;\\n    }\\n\\n   #suggest-table {\\n      display: none;\\n   ',\n",
       " 'Whirlpool 2204812 Shelf(13\"x 7\")']"
      ]
     },
     "execution_count": 165,
     "metadata": {},
     "output_type": "execute_result"
    }
   ],
   "source": [
    "index.query(embeddings[0])"
   ]
  },
  {
   "cell_type": "code",
   "execution_count": 169,
   "metadata": {},
   "outputs": [],
   "source": [
    "dataf=pd.read_csv(\"final_df.csv\")"
   ]
  },
  {
   "cell_type": "code",
   "execution_count": 170,
   "metadata": {},
   "outputs": [
    {
     "data": {
      "text/plain": [
       "(25327, 19)"
      ]
     },
     "execution_count": 170,
     "metadata": {},
     "output_type": "execute_result"
    }
   ],
   "source": [
    "dataf.shape"
   ]
  },
  {
   "cell_type": "code",
   "execution_count": null,
   "metadata": {},
   "outputs": [],
   "source": []
  }
 ],
 "metadata": {
  "kernelspec": {
   "display_name": "Python 3",
   "language": "python",
   "name": "python3"
  },
  "language_info": {
   "codemirror_mode": {
    "name": "ipython",
    "version": 3
   },
   "file_extension": ".py",
   "mimetype": "text/x-python",
   "name": "python",
   "nbconvert_exporter": "python",
   "pygments_lexer": "ipython3",
   "version": "3.7.6"
  }
 },
 "nbformat": 4,
 "nbformat_minor": 4
}
